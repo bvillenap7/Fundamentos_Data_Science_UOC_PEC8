{
 "cells": [
  {
   "cell_type": "markdown",
   "metadata": {},
   "source": [
    "<div style=\"width: 100%; clear: both;\">\n",
    "    <div style=\"float: left; width: 50%;\">\n",
    "       <img src=\"http://www.uoc.edu/portal/_resources/common/imatges/marca_UOC/UOC_Masterbrand.jpg\", align=\"left\">\n",
    "    </div>\n",
    "</div>\n",
    "\n",
    "<div style=\"float: right; width: 50%;\">\n",
    "    <p style=\"margin: 0; padding-top: 22px; text-align:right;\">22.501 · Fundamentos de Programación</p>\n",
    "    <p style=\"margin: 0; text-align:right;\">Grado en Ciencia de Datos Aplicada</p>\n",
    "    <p style=\"margin: 0; text-align:right; padding-button: 100px;\">Estudios de Informática, Multimedia y Telecomunicación</p>\n",
    "</div>\n",
    "\n",
    "</div>\n",
    "<div style=\"width: 100%; clear: both;\">\n",
    "<div style=\"width:100%;\">&nbsp;</div>"
   ]
  },
  {
   "cell_type": "markdown",
   "metadata": {},
   "source": [
    "\n",
    "Programación para *Data Science*\n",
    "============================\n",
    "\n",
    "PEC 8 - Visualización de datos en Python\n",
    "-----------------------------------------------------\n",
    "\n",
    "En este Notebook encontraréis el conjunto de actividades evaluables como PEC de la asignatura. Veréis que cada una de ellas tiene asociada una puntuación, que indica el peso que tiene la actividad sobre la nota final de la PEC. Adicionalmente, hay un ejercicio opcional, que no tiene puntuación dentro de la PEC, pero que se valora al final del semestre de cara a conceder las matrículas de honor y redondear las notas finales. Podréis sacar la máxima nota de la PAC sin necesidad de hacer este ejercicio. El objetivo de este ejercicio es que sirva como pequeño reto para los estudiantes que quieran profundizar en el contenido de la asignatura.\n",
    "\n",
    "Veréis que todas las actividades de la PEC tienen una etiqueta, que indica los recursos necesarios para llevarla a cabo. Hay tres posibles etiquetas:\n",
    "\n",
    "* <span style=\"font-family: Courier New; background-color: #82b74b; color: #000000; padding: 3px; \">NM</span> **Sólo materiales**: las herramientas necesarias para realizar la actividad se pueden encontrar en los materiales de la asignatura.\n",
    "\n",
    "* <span style = \"font-family: Courier New; background-color: #ffcc5c; color: #000000; padding: 3px; \">EG</span> **Consulta externa guiada**: la actividad puede requerir hacer uso de herramientas que no se encuentran en los materiales de la asignatura, pero el enunciado contiene indicaciones de dónde o cómo encontrar la información adicional necesaria para resolver la actividad.\n",
    "\n",
    "* <span style = \"font-family: Courier New; background-color: #f2ae72; color: #000000; padding: 3px;\">EI</span> **Consulta externa independiente**: la actividad puede requerir hacer uso de herramientas que no se encuentran en los materiales de la asignatura, y el enunciado puede no incluir la descripción de dónde o cómo encontrar esta información adicional. Será necesario que el estudiante busque esta información utilizando los recursos que se han explicado en la asignatura.\n",
    "\n",
    "Es importante notar que estas etiquetas no indican el nivel de dificultad del ejercicio, sino únicamente la necesidad de consulta de documentación externa para su resolución. Además, recordad que las **etiquetas son informativas**, pero podréis consultar referencias externas en cualquier momento (aunque no se indique explícitamente) o puede ser que podáis hacer una actividad sin consultar ningún tipo de documentación. Por ejemplo, para resolver una actividad que sólo requiera los materiales de la asignatura, puedéis consultar referencias externas si queréis, ya sea tanto para ayudaros en la resolución como para ampliar el conocimiento!\n",
    "\n",
    "En cuanto a la consulta de documentación externa en la resolución de los ejercicios, recordad **citar siempre la bibliografía utilizada** para resolver cada actividad.\n",
    "\n",
    "---"
   ]
  },
  {
   "cell_type": "markdown",
   "metadata": {},
   "source": [
    "### Ejercicio 1 (SEABORN)\n",
    "\n",
    "El año 2016 se celebraron los últimos Juegos Olímpicos en Río de Janeiro. Utilizando la página web de Rio2016, hemos descargado el fichero `athletes.csv` donde podemos ver las algunos datos de sus participantes. \n",
    "\n",
    "a ) Carga los datos en un dataframe de pandas y visualiza utilitzando seaborn:\n",
    "* Un histograma de la altura de los participantes. (utilizando [`distplot`](https://seaborn.pydata.org/generated/seaborn.distplot.html))\n",
    "* Un histograma del peso de los participantes. (utilizando [`distplot`](https://seaborn.pydata.org/generated/seaborn.distplot.html))\n",
    "* Un diagrama de puntos donde veamos la altura en un eje y el peso en el otro. (utilizando [`jointplot`](https://seaborn.pydata.org/generated/seaborn.jointplot.html))\n",
    "\n",
    "Explica que información podemos obtener de los tres gráficos realizados.\n",
    "\n",
    "<span style=\"font-family: Courier New; background-color: #ffcc5c; color: #000000; padding: 3px; \">EG</span>\n",
    "**(0.5 puntos)**\n"
   ]
  },
  {
   "cell_type": "code",
   "execution_count": 1,
   "metadata": {
    "pycharm": {
     "name": "#%%\n"
    }
   },
   "outputs": [],
   "source": [
    "# Respuesta "
   ]
  },
  {
   "cell_type": "markdown",
   "metadata": {},
   "source": [
    "En los gráficos podemos ver una distribución aparentemente gaussiana del peso y la altura. Sin embargo, vemos un doble pico que con la información graficada no sabemos explicar. En la tercera gráfica podemos ver una correlación entre peso y altura. A mayor altura, mayor el peso del deportista."
   ]
  },
  {
   "cell_type": "markdown",
   "metadata": {},
   "source": [
    "b) Repite el último de los gráficos anteriores, pero ahora visualizando solo los deportistas que hayan logrado una o más medallas de oro (utiliza [`scatterplot`](https://seaborn.pydata.org/generated/seaborn.scatterplot.html)).  Utiliza colores diferentes para mostrar el número de medallas de oro ganadas (asegúrate que los colores sean diferentes para permitir su identificación). \n",
    "\n",
    "Sobre los datos mostrados, dibuja la recta de regresión peso/altura de todos los participantes (con y sin medallas medallas) utilitzando regplot. ¿Qué podemos decir después de ver el gráfico?\n",
    "\n",
    "<span style=\"font-family: Courier New; background-color: #82b74b; color: #000000; padding: 3px; \">NM</span>\n",
    "**(0.5 puntos)**"
   ]
  },
  {
   "cell_type": "code",
   "execution_count": 2,
   "metadata": {
    "scrolled": true
   },
   "outputs": [],
   "source": [
    "# Respuesta"
   ]
  },
  {
   "cell_type": "markdown",
   "metadata": {},
   "source": [
    "Viendo la gráfica anterior, parece que los jugadores que pesan más y no tienen una altura en proporción al peso más cercana a la regresión linear, han ganado menos medallas."
   ]
  },
  {
   "cell_type": "markdown",
   "metadata": {},
   "source": [
    "c) Crea una nueva variable en el dataframe que nos enseñe el número de medallas ganadas (independientemente de su tipo), y repite el gráfico anterior, utilitzando como color el número total de medallas. ¿Vemos alguna diferéncia  respecto a la gráfica anterior? \n",
    "\n",
    "<span style=\"font-family: Courier New; background-color: #82b74b; color: #000000; padding: 3px; \">NM</span>\n",
    "**(0.5 puntos)**"
   ]
  },
  {
   "cell_type": "code",
   "execution_count": 3,
   "metadata": {},
   "outputs": [],
   "source": [
    "# Respuesta"
   ]
  },
  {
   "cell_type": "markdown",
   "metadata": {},
   "source": [
    "d) Seguramente hemos visto cierta correlación entre algunos atributos. Utiliza un mapa de calor pera visualizar las posibles correlaciones entre los atributos numéricos de este último dataframe. ¿Qué información podemos extraer del mapa de calor generado?\n",
    "\n",
    "<span style=\"font-family: Courier New; background-color: #82b74b; color: #000000; padding: 3px; \">NM</span>\n",
    "**(1 punto)**"
   ]
  },
  {
   "cell_type": "code",
   "execution_count": 4,
   "metadata": {},
   "outputs": [],
   "source": [
    "# Respuesta"
   ]
  },
  {
   "cell_type": "markdown",
   "metadata": {},
   "source": [
    "**(OPCIONAL)** En los histogramas realizados inicialmente de peso y altura, vimos un doble pico. Realiza ahora en un mismo gráfico, las gráficas de distribución de densidad de hombres y mujeres por separado. ¿Podemos ahora explicar el motivo del doble pico?"
   ]
  },
  {
   "cell_type": "code",
   "execution_count": 5,
   "metadata": {},
   "outputs": [],
   "source": [
    "# Respuesta"
   ]
  },
  {
   "cell_type": "markdown",
   "metadata": {
    "pycharm": {
     "name": "#%% md\n"
    }
   },
   "source": [
    "\n",
    "### Ejercicio 2 (NETWORKX)\n",
    "\n",
    "El año 1992 coincidiendo com las Olimpadas de Barcelona 1992, se inaguraba la línea de alta velocidad en España que recibia el nombre comercial de AVE, entre Madrid y Sevilla. En esta primera línea, que utilitzaba trenes de la série 100 de Alstom, la velocidad máxima en los trenes en Espanya podía llegar a 300km/h en el tramo creado. \n",
    "Desde su primera inaguración, las lineas, estaciones y velocitats máximes, han ido incrementándose progresivamente.\n",
    "\n",
    "a) En el fichero `Ave.csv` podemos encontrar una lista con las diferentes estacions de origen y final de trenes de Alta Velocitat Espanyola (AVE). En este ejercicio pedimos crear un grafo de las estaciones, siguiendo los pasos expuestos a continuación:\n",
    "* Cargar el fichero en un dataframe de pandas.\n",
    "* Obtener las estaciones, y crear un nodo para cada una de ellas. Visualizar el grafo obtenido.\n",
    "* Para cada recorrido, crear las aristas correspondientes, y visualizar el grafo.\n",
    "\n",
    "<span style=\"font-family: Courier New; background-color: #82b74b; color: #000000; padding: 3px; \">NM</span>\n",
    "**(0.5 puntos)**\n",
    "\n",
    "\n"
   ]
  },
  {
   "cell_type": "code",
   "execution_count": 6,
   "metadata": {},
   "outputs": [],
   "source": [
    "# Respuesta"
   ]
  },
  {
   "cell_type": "markdown",
   "metadata": {},
   "source": [
    "b) Generar ahora una nueva visualización del grafo, en el que los nodos tengan una medida proporcional a la población de la ciudad de la estación, y donde las aristas tengan una longitud propocional a la distáncia entre ellas. Para ello, deberemos cargar los ficheros que continenen esta información: `Ave_population.csv` (que contiene la población de cada ciudad) y `Ave_distance.csv`(que contiene las distancias entre estaciones).\n",
    "\n",
    "<span style=\"font-family: Courier New; background-color: #f2ae72; color: #000000; padding: 3px; \">EI</span>\n",
    "**(1.5 puntos)**\n",
    "\n"
   ]
  },
  {
   "cell_type": "code",
   "execution_count": 7,
   "metadata": {},
   "outputs": [],
   "source": [
    "# Respuesta"
   ]
  },
  {
   "cell_type": "markdown",
   "metadata": {},
   "source": [
    "c) Calcula utilitzando las herramientas de NetworkX la ruta entre Girona y Sevilla, y muéstrala. \n",
    "\n",
    "**NOTA** Puedes consultar en https://networkx.org/documentation/networkx-1.10/reference/generated/networkx.algorithms.simple_paths.shortest_simple_paths.html como generar caminos entre nodos.\n",
    "\n",
    "<span style=\"font-family: Courier New; background-color: #ffcc5c; color: #000000; padding: 3px; \">EG</span>\n",
    "**(0.5 puntos)**\n"
   ]
  },
  {
   "cell_type": "code",
   "execution_count": 8,
   "metadata": {},
   "outputs": [],
   "source": [
    "# Respuesta"
   ]
  },
  {
   "cell_type": "markdown",
   "metadata": {},
   "source": [
    "**(OPCIONAL)** ¿Puedes mostrar el nombre de las estaciones que se situan al final de línea (aquellas que solo tienen un vecino) utilitzando las funciones que nos proporcionan NetworkX?\n"
   ]
  },
  {
   "cell_type": "code",
   "execution_count": 9,
   "metadata": {},
   "outputs": [],
   "source": [
    "# Respuesta"
   ]
  },
  {
   "cell_type": "markdown",
   "metadata": {},
   "source": [
    "**(OPCIONAL)** Añade una nueva arista entre \"Tarragona\" y \"Castellón\" de 186Km, muestra el grafo y calcula las posibles rutas entre \"Barcelona\" y \"Castellón\", indicando la distancia de cada una de ellas."
   ]
  },
  {
   "cell_type": "code",
   "execution_count": 10,
   "metadata": {},
   "outputs": [],
   "source": [
    "# Respuesta"
   ]
  },
  {
   "cell_type": "markdown",
   "metadata": {},
   "source": [
    "\n",
    "### Ejercicio 3 (GEOPLOTLIB)\n",
    "\n",
    "Al largo de la história de los Juegos Olímpicos estos se han realizado en diferentes ciudades del mundo. Vamos a ver su distribución sobre un mapa en este ejercicio.\n"
   ]
  },
  {
   "cell_type": "markdown",
   "metadata": {},
   "source": [
    "a) Para realizar una visualización básica de la localización geográfica de las sedes de los Juegos Olímpicos, pedímos:\n",
    "\n",
    "* Carga los datos con la localización de las principales ciudades del planeta del fichero `worldcities.csv` en un dataframe\n",
    "\n",
    "* En un segundo dataframe, carga el fichero con los datos de las sedes de los Juegos Olímpicos del fichero `olimpics.csv`.\n",
    "\n",
    "* Crea un tercer dataframe, con las siguientes columnas para cada uno de los diferentes eventos olímpicos [year,city,country,population,continent,lat,lon]\n",
    "\n",
    "<span style=\"font-family: Courier New; background-color: #82b74b; color: #000000; padding: 3px; \">NM</span>\n",
    "**(0.5 puntos)**\n"
   ]
  },
  {
   "cell_type": "code",
   "execution_count": 11,
   "metadata": {
    "pycharm": {
     "name": "#%%\n"
    }
   },
   "outputs": [],
   "source": [
    "# Respuesta"
   ]
  },
  {
   "cell_type": "markdown",
   "metadata": {},
   "source": [
    "\n",
    "b) Visualiza un mapa del mundo con las posiciones en las que se han celebrado alguna vez algunos Juegos Olímpicos, utilitzando el dataframe generado anteriormente y la librería geoplotlib.\n",
    "<span style=\"font-family: Courier New; background-color: #82b74b; color: #000000; padding: 3px; \">NM</span>\n",
    "**(1 punto)**"
   ]
  },
  {
   "cell_type": "code",
   "execution_count": 12,
   "metadata": {
    "pycharm": {
     "name": "#%%\n"
    }
   },
   "outputs": [],
   "source": [
    "# Respuesta"
   ]
  },
  {
   "cell_type": "markdown",
   "metadata": {},
   "source": [
    "\n",
    "\n",
    "c) Hay algunas ciudades que han repetido celebraciones. Para estos casos deberemos:\n",
    "* Cambiar el color de los puntos utilizados para ubicar cada ciudad, y utilizar un color diferente en función de las repeticiones .\n",
    "* Añadir una etiqueta, con el número de repeticiones, al lado de cada sede olímpica.\n",
    "\n",
    "<span style=\"font-family: Courier New; background-color: #f2ae72; color: #000000; padding: 3px; \">EI</span>\n",
    "**(1 punto)**\n"
   ]
  },
  {
   "cell_type": "code",
   "execution_count": 13,
   "metadata": {
    "pycharm": {
     "name": "#%%\n"
    }
   },
   "outputs": [],
   "source": [
    "# Respuesta"
   ]
  },
  {
   "cell_type": "markdown",
   "metadata": {},
   "source": [
    "\n",
    "### Ejercicio 4 (MATPLOTLIB)\n",
    "\n",
    "Debido al COVID-19, los Juegos Olímpicos del 2020 fueron históricamente aplazados.\n",
    "\n",
    "Una de las pruebas reinas de los Juegos es el Maratón, que se disputará en la ciudad de Sapporo. Pero quizás, dados los efectos del calentamiento global, las condiciones puede que sean un poco diferentes a las del año 2020. Vamos a ver, utilizando el fichero `Sapporo_weather.csv`, si esto puede ser así.\n",
    "\n",
    "\n",
    "a) Carga los datos en un dataframe y muestra un histograma de las temperaturas del los últimos 100 años, visualizando en el eje de abcisas 50 subdivisiones entre la temperatura mínima y la máxima, y en el eje de ordenadas, la frecuéncia de cada una de estas temperaturas.\n",
    "\n",
    "Recuerda etiquetar los ejes. ¿Qué información nos aporta? ¿Es útil?\n",
    "\n",
    "<span style=\"font-family: Courier New; background-color: #82b74b; color: #000000; padding: 3px; \">NM</span>\n",
    "**(0.5 puntos)**"
   ]
  },
  {
   "cell_type": "code",
   "execution_count": 14,
   "metadata": {
    "pycharm": {
     "name": "#%%\n"
    }
   },
   "outputs": [],
   "source": [
    "# Respuesta"
   ]
  },
  {
   "cell_type": "markdown",
   "metadata": {},
   "source": [
    "b) Muestra ahora un gráfico en el que tengamos el mes del año en el eje de abcisas, y la temperatura en el de ordenadas. Crea una línea por año utilizando un color diferente.\n",
    "¿Qué es lo que podemos ver ahora?\n",
    "\n",
    "<span style=\"font-family: Courier New; background-color: #82b74b; color: #000000; padding: 3px; \">NM</span>\n",
    "**(1 punto)**"
   ]
  },
  {
   "cell_type": "code",
   "execution_count": 15,
   "metadata": {
    "pycharm": {
     "name": "#%%\n"
    }
   },
   "outputs": [],
   "source": [
    "# Respuesta"
   ]
  },
  {
   "cell_type": "markdown",
   "metadata": {},
   "source": [
    "c) Los Juegos Olímpicos se celebran en verano. ¿Podrías mostrar la evolución de la temperatura en Sapporo en el mes de Julio al largo de los últimos 100 años?\n",
    "\n",
    "Muestra utilizando una primera línea de regresión la progresión de la temperatura en los últimos 100 años, y con una segunda línea, la de los últimos 50.¿Qué es lo que vemos?\n",
    "\n",
    "Extrae los datos del dataframe que nos interesan, y pon estos datos en una lista antes de generar el gráfico. Recuerda que es necesario poner el título, y etiquetar correctamente cada eje.\n",
    "\n",
    "\n",
    "**NOTA** Podéis consultar en https://stackoverflow.com/questions/6148207/linear-regression-with-matplotlib-numpy como realizar la regresión.\n",
    "\n",
    "<span style=\"font-family: Courier New; background-color: #ffcc5c; color: #000000; padding: 3px; \">EG</span>\n",
    "**(1 puntos)**\n"
   ]
  },
  {
   "cell_type": "code",
   "execution_count": 16,
   "metadata": {
    "pycharm": {
     "name": "#%%\n"
    }
   },
   "outputs": [],
   "source": [
    "# Respuesta"
   ]
  }
 ],
 "metadata": {
  "kernelspec": {
   "display_name": "Python 3",
   "language": "python",
   "name": "python3"
  },
  "language_info": {
   "codemirror_mode": {
    "name": "ipython",
    "version": 3
   },
   "file_extension": ".py",
   "mimetype": "text/x-python",
   "name": "python",
   "nbconvert_exporter": "python",
   "pygments_lexer": "ipython3",
   "version": "3.8.5"
  }
 },
 "nbformat": 4,
 "nbformat_minor": 1
}
