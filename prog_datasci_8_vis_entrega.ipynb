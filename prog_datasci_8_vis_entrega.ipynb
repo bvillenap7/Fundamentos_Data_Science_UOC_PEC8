{
 "metadata": {
  "name": "",
  "signature": "sha256:5bb2792aa6ff78b23ea25dfc55a2d9c9fbcf957d27f7d13d82546ecd0b122b90"
 },
 "nbformat": 3,
 "nbformat_minor": 0,
 "worksheets": [
  {
   "cells": [
    {
     "cell_type": "markdown",
     "metadata": {},
     "source": [
      "Programaci\u00f3n para *Data Science*\n",
      "============================\n",
      "\n",
      "Unidad 8: Visualizaci\u00f3n de datos en Python\n",
      "-------------------------------------------------------------------\n",
      "\n",
      "En este Notebook encontrar\u00e9is dos conjuntos de ejercicios: un primer conjunto de ejercicios para practicar y que no puntuan, pero que recomendamos intentar resolver y un segundo conjunto que evaluaremos como PEC."
     ]
    },
    {
     "cell_type": "markdown",
     "metadata": {},
     "source": [
      "## Ejercicios para practicar\n",
      "\n",
      "**Los siguientes 3 ejercicios no puntuan para la PEC**, pero os recomendamos que los intent\u00e9is resolver antes de pasar a los ejercicios propios de la PEC. Tambi\u00e9n pod\u00e9is encontrar las soluciones a estos ejercicios al final del Notebook. "
     ]
    },
    {
     "cell_type": "markdown",
     "metadata": {},
     "source": [
      "### Ejercicio 1\n",
      "\n",
      "Cargad el conjunto de datos `pulitzer-circulation-data.csv` en un dataframe de pandas.  La fuente original de este conjunto de datos es el repositorio de datos de [FiveThirtyEight](https://github.com/fivethirtyeight/data).\n",
      "\n",
      "Generad un diagrama de dispersi\u00f3n que permita visualizar las muestras del conjunto de datos de pulitzer seg\u00fan las variables 'Daily Circulation 2004' y 'Daily Circulation 2013'. Incluid una recta con el ajuste lineal entre ambas variables. Por lo que respecta a los detalles de visualizaci\u00f3n, limitad la visualizaci\u00f3n de ambos ejes al intervalo (0, 1000000), usad el estilo `whitegrid` de seaborn, y dibujad los puntos y la l\u00ednea en color verde. \n",
      "\n",
      "Pista: Pod\u00e9is usar la funci\u00f3n `jointplot` que hemos visto en el notebook de explicaci\u00f3n. Pensad en qu\u00e9 tipo de gr\u00e1fica, [de entre las que ofrece jointplot](http://seaborn.pydata.org/generated/seaborn.jointplot.html), se ajusta a los requerimientos del enunciado."
     ]
    },
    {
     "cell_type": "code",
     "collapsed": false,
     "input": [
      "# Respuesta"
     ],
     "language": "python",
     "metadata": {},
     "outputs": []
    },
    {
     "cell_type": "markdown",
     "metadata": {},
     "source": [
      "### Ejercicio 2\n",
      "\n",
      "Generad una gr\u00e1fica que muestre el n\u00famero de votos y el n\u00famero de esca\u00f1os obtenidos de los 10 partidos m\u00e1s votados en las elecciones generales en Espa\u00f1a de 2016 para el congreso. Pod\u00e9is generar el tipo de gr\u00e1fica que consider\u00e9is m\u00e1s oportuno, siempre y cuando permita visualizar en **una \u00fanica gr\u00e1fica** ambos resultados (votos y esca\u00f1os), de manera que sea f\u00e1cil comparar ambos resultados. Recordad incluir toda la informaci\u00f3n necesaria para poder interpretar luego la gr\u00e1fica adecuadamente.\n",
      "\n",
      "Nota: para realizar el ejercicio, en primer lugar necesitar\u00e9is buscar y descargar los datos de inter\u00e9s. Despu\u00e9s, habr\u00e1 que preprocesarlos, para finalmente generar la visualizaci\u00f3n que se pide en el ejercicio."
     ]
    },
    {
     "cell_type": "code",
     "collapsed": false,
     "input": [
      "# Respuesta"
     ],
     "language": "python",
     "metadata": {},
     "outputs": []
    },
    {
     "cell_type": "markdown",
     "metadata": {},
     "source": [
      "### Ejercicio 3\n",
      "\n",
      "Aplicad un clasificador basado en un [\u00e1rbol de decisi\u00f3n](https://es.wikipedia.org/wiki/%C3%81rbol_de_decisi%C3%B3n) para predecir los tipos de especie de iris utilizando todos los atributos del dataset. Dibujad el \u00e1rbol de decisi\u00f3n aprendido utilizando la librer\u00eda `networkx`."
     ]
    },
    {
     "cell_type": "code",
     "collapsed": false,
     "input": [
      "# Respuesta"
     ],
     "language": "python",
     "metadata": {},
     "outputs": []
    },
    {
     "cell_type": "markdown",
     "metadata": {},
     "source": [
      "---\n",
      "\n",
      "## Ejercicios y preguntas te\u00f3ricas para la PEC\n",
      "\n",
      "A continuaci\u00f3n encontrar\u00e9is los **ejercicios y preguntas te\u00f3ricas que deb\u00e9is completar en esta PEC** y que forman parte de la evaluaci\u00f3n de esta unidad."
     ]
    },
    {
     "cell_type": "markdown",
     "metadata": {},
     "source": [
      "### Ejercicio 1\n",
      "\n",
      "Recuperad el fichero `got.csv` utilizado durante la PAC 4 con informaci\u00f3n sobre las batallas que han tenido lugar a lo largo de la serie de televisi\u00f3n _Juego de Tronos_. Generad un diagrama de puntos (_scatter_) que permita comparar el tama\u00f1o (`attacker_size` vs `defender_size`) de los dos principales ejercitos involucrados en cada batalla. Utilizad la columna `attacker_outcome` para mostrar con diferentes colores el resultado de la batalla para el atacante.\n",
      "\n",
      "Pod\u00e9is utilizar la funci\u00f3n [`lmplot`](https://seaborn.pydata.org/generated/seaborn.lmplot.html) de Seaborn para generar la gr\u00e1fica. Pensad en qu\u00e9 atributos nos permiten crear este tipo de visualizaci\u00f3n.\n",
      "\n",
      "Viendo la gr\u00e1fica, podemos afirmar que el tama\u00f1o del ejercito es determinante en el resultado de la batalla?\n",
      "\n",
      "Nota: utilizar el estilo `whitegrid` de Seaborn. \n",
      "\n",
      "** (2.5 punts) **"
     ]
    },
    {
     "cell_type": "code",
     "collapsed": false,
     "input": [
      "# Respuesta"
     ],
     "language": "python",
     "metadata": {
      "attributes": {
       "classes": [
        "sourceCode"
       ],
       "id": ""
      }
     },
     "outputs": [],
     "prompt_number": 2
    },
    {
     "cell_type": "markdown",
     "metadata": {},
     "source": [
      "### Ejercicio 2\n",
      "\n",
      "En los reinos de Poniente, los Grandes Maestros consideran que todo el mundo deber\u00eda tener acceso a una biblioteca. Desgraciadamente, despu\u00e9s de una gran guerra, la red de carreteras que comunicaban estos reinos ha quedado gravemente afectada. Los Grandes Maestros nos han contratado para resolver las siguientes preguntas:\n",
      "\n",
      "1. \u00bfQu\u00e9 reinos han quedado sin poder acceder a una biblioteca?\n",
      "2. \u00bfCu\u00e1l es el nombre m\u00ednimo de bibliotecas que se deber\u00edan construir para que todo el mundo vuelva a tener acceso a una biblioteca? (si no podemos re-construir ninguna carretera)\n",
      "3. \u00bfCu\u00e1l es el coste m\u00ednimo de re-construcci\u00f3n de carreteras para que todo el mundo vuelve a tener acceso a una biblioteca? (si no podemos construir ninguna biblioteca?\n",
      "4. Viendo la respuesta de las preguntas 2 y 3, \u00bfqu\u00e9 seria lo m\u00e1s \u00f3ptimo teniendo en cuenta que queremos minimizar costes?\n",
      "\n",
      "Para poder dar respuestas a las anteriores preguntas, los Grandes Maestros nos facilitan la siguiente informaci\u00f3n:\n",
      "\n",
      "- Disponemos de un grafo con el estado de la red de carreteras entre los reinos.\n",
      "- Disponemos de una listado con las ciudades que disponen de una biblioteca.\n",
      "- Una ciudad se considera que tiene acceso a una biblioteca si existe una biblioteca en la misma ciudad o si los habitantes pueden viajar por carretera hasta otra ciudad con biblioteca.\n",
      "- El coste de construir una biblioteca es de 150.000\u20ac.\n",
      "- El coste de re-construir una carretera es de 80.000\u20ac.\n",
      "\n",
      "Nota: para resolver el ejercicio, **deb\u00e9is generar una visualizaci\u00f3n del grafo que os permita responder a las cuatro preguntas planteadas**. Despu\u00e9s, **recordad contestar a las cuatro preguntas!**\n",
      "\n",
      "**(2.5 punts)**"
     ]
    },
    {
     "cell_type": "code",
     "collapsed": false,
     "input": [
      "# Datos disponibles para el ejercicio\n",
      "\n",
      "import networkx as nx\n",
      "\n",
      "# Lista de carreteras transitables\n",
      "carreteras_ok = [(1,3), (3,4), (2, 7), (2, 8), (5, 6), (9, 10)]\n",
      "\n",
      "# Lista de carreteras cortadas\n",
      "carreteras_ko = [(1, 2), (2, 4), (2, 5), (8, 9)]\n",
      "\n",
      "# Graf G, que representa la red de carreteras entre las ciudades\n",
      "G = nx.Graph()\n",
      "\n",
      "G.add_edges_from(carreteras_ok)\n",
      "G.add_edges_from(carreteras_ko) \n",
      "\n",
      "# Lista de ciudades con biblioteca\n",
      "ciudades_con_biblioteca = [3, 6, 9]"
     ],
     "language": "python",
     "metadata": {},
     "outputs": []
    },
    {
     "cell_type": "code",
     "collapsed": false,
     "input": [
      "# Respuesta"
     ],
     "language": "python",
     "metadata": {},
     "outputs": []
    },
    {
     "cell_type": "markdown",
     "metadata": {},
     "source": [
      "### Ejercicio 3\n",
      "\n",
      "El a\u00f1o 2018, a la ciudad de Barcelona se ha producido, de media, 27,22 accidentes con vehiculos implicados. Es por eso que el ayuntamiento de Barcelona requiere nuestros servicios para construir un mapa **interactivo** que muestre los puntos donde se han producido los accidentes.\n",
      "\n",
      "Nos piden crear un mapa utilizando la librer\u00eda _geoplotlib_ que nos ha de permitir ver la localizaci\u00f3n de cada accidente y el n\u00famero de victimas implicadas. Por ahora, \u00fanicamente nos piden visualizar los accidentes producidos el mes de **junio del 2018** en **fines de semana** (s\u00e1bados y domingos).\n",
      "\n",
      "Nota: Pod\u00e9is obtener los datos de los accidentes gestionados por la Gu\u00e0rdia Urbana a la ciudad de Barcelona al portal [Open Data BCN](https://opendata-ajuntament.barcelona.cat/data/ca/dataset) y [cargar los datos](https://github.com/andrea-cuttone/geoplotlib/wiki/user-Guide#loading-data) a partir de un diccionario o un dataframe.\n",
      "\n",
      "**(2.5 punts)**"
     ]
    },
    {
     "cell_type": "code",
     "collapsed": false,
     "input": [
      "# Respuesta"
     ],
     "language": "python",
     "metadata": {
      "attributes": {
       "classes": [
        "sourceCode"
       ],
       "id": ""
      }
     },
     "outputs": [],
     "prompt_number": 4
    },
    {
     "cell_type": "markdown",
     "metadata": {},
     "source": [
      "### Ejercicio 4\n",
      "\n",
      "Teniendo en cuenta los datos obtenidos en el ejercicio anterior, el ayuntamiento de Barcelona tambi\u00e9n nos pide realizar un an\u00e1lisis de las horas cuando se producen los accidentes para intentar prevenirlos.\n",
      "\n",
      "Se nos pide generar una gr\u00e1fica que muestre la **distribuci\u00f3n** de las horas en las que se han producido los accidentes para cada d\u00eda de la semana. La misma gr\u00e1fica deber\u00eda mostrar tambi\u00e9n un mapa de puntos de los valores de la hora **sin solapar**.\n",
      "\n",
      "Nota 1: La visualizaci\u00f3n de los datos deber\u00eda ser atractiva y clara para que los responsables del ayuntamiento puedan identificar f\u00e1cilmente cuales son las franjas horarias donde hay m\u00e1s probabilidad que succeda un accidente.\n",
      "\n",
      "Nota 2: Por ahora, nos limitarems a estudiar \u00fanicamente los datos del mes de **junio del 2018**\n",
      "\n",
      "**(2.5 punts)**"
     ]
    },
    {
     "cell_type": "code",
     "collapsed": false,
     "input": [
      "# Respuesta"
     ],
     "language": "python",
     "metadata": {
      "attributes": {
       "classes": [
        "sourceCode"
       ],
       "id": ""
      }
     },
     "outputs": [],
     "prompt_number": 5
    },
    {
     "cell_type": "markdown",
     "metadata": {},
     "source": [
      "---\n",
      "\n",
      "## Soluciones ejercicios para practicar"
     ]
    },
    {
     "cell_type": "markdown",
     "metadata": {},
     "source": [
      "### Ejercicio 1\n",
      "\n",
      "Cargad el conjunto de datos `pulitzer-circulation-data.csv` en un dataframe de pandas.  La fuente original de este conjunto de datos es el repositorio de datos de [FiveThirtyEight](https://github.com/fivethirtyeight/data).\n",
      "\n",
      "Generad un diagrama de dispersi\u00f3n que permita visualizar las muestras del conjunto de datos de pulitzer seg\u00fan las variables 'Daily Circulation 2004' y 'Daily Circulation 2013'. Incluid una recta con el ajuste lineal entre ambas variables. Por lo que respecta a los detalles de visualizaci\u00f3n, limitad la visualizaci\u00f3n de ambos ejes al intervalo (0, 1000000), usad el estilo `whitegrid` de seaborn, y dibujad los puntos y la l\u00ednea en color verde. \n",
      "\n",
      "Pista: Pod\u00e9is usar la funci\u00f3n `jointplot` que hemos visto en el notebook de explicaci\u00f3n. Pensad en qu\u00e9 tipo de gr\u00e1fica, [de entre las que ofrece jointplot](http://seaborn.pydata.org/generated/seaborn.jointplot.html), se ajusta a los requerimientos del enunciado."
     ]
    },
    {
     "cell_type": "code",
     "collapsed": false,
     "input": [
      "# Importamos las librer\u00edas\n",
      "import pandas as pd\n",
      "import seaborn as sns\n",
      "\n",
      "# Mostramos las gr\u00e1ficas en el notebook\n",
      "%matplotlib inline\n",
      "\n",
      "# Cargamos los datos del fichero \"pulitzer-circulation-data.csv\" en un dataframe\n",
      "data = pd.read_csv(\"data/pulitzer-circulation-data.csv\")\n",
      "\n",
      "# Indicamos que queremos utilizar el estilo \"white\" de seaborn\n",
      "sns.set_style(\"whitegrid\")\n",
      "\n",
      "# Generamos la gr\u00e1fica de tipo \"reg\"\n",
      "g = sns.jointplot(\"Daily Circulation 2004\", \"Daily Circulation 2013\", data=data, \n",
      "                  xlim=[0, 1000000], ylim=[0, 1000000],\n",
      "                  kind=\"reg\", \n",
      "                  color=\"g\", height=8)"
     ],
     "language": "python",
     "metadata": {},
     "outputs": []
    },
    {
     "cell_type": "markdown",
     "metadata": {},
     "source": [
      "### Ejercicio 2\n",
      "\n",
      "Generad una gr\u00e1fica que muestre el n\u00famero de votos y el n\u00famero de esca\u00f1os obtenidos de los 10 partidos m\u00e1s votados en las elecciones generales en Espa\u00f1a de 2016 para el congreso. Pod\u00e9is generar el tipo de gr\u00e1fica que consider\u00e9is m\u00e1s oportuno, siempre y cuando permita visualizar en **una \u00fanica gr\u00e1fica** ambos resultados (votos y esca\u00f1os), de manera que sea f\u00e1cil comparar ambos resultados. Recordad incluir toda la informaci\u00f3n necesaria para poder interpretar luego la gr\u00e1fica adecuadamente.\n",
      "\n",
      "Nota: para realizar el ejercicio, en primer lugar necesitar\u00e9is buscar y descargar los datos de inter\u00e9s. Despu\u00e9s, habr\u00e1 que preprocesarlos, para finalmente generar la visualizaci\u00f3n que se pide en el ejercicio."
     ]
    },
    {
     "cell_type": "code",
     "collapsed": false,
     "input": [
      "# Cargamos los datos desde un csv\n",
      "data = pd.read_csv(\"data/elecciones.csv\", decimal=\",\", thousands=\".\")"
     ],
     "language": "python",
     "metadata": {},
     "outputs": []
    },
    {
     "cell_type": "code",
     "collapsed": false,
     "input": [
      "# Visualizamos el contenido del DataFrame cargado\n",
      "data"
     ],
     "language": "python",
     "metadata": {},
     "outputs": []
    },
    {
     "cell_type": "code",
     "collapsed": false,
     "input": [
      "import numpy as np\n",
      "\n",
      "# Seleccionamos \u00fanicamente los 10 partidos m\u00e1s votados\n",
      "n = 10\n",
      "most_voted = data.nlargest(n, \"Votos\")\n",
      "\n",
      "# Configuramos el plot\n",
      "bar_width = 0.4\n",
      "fig, ax1 = plt.subplots(figsize=(12, 8))\n",
      "\n",
      "# Mostramos los votos en el axis ax1\n",
      "ax1.bar(np.arange(n), most_voted['Votos'], bar_width, label='Votos')\n",
      "ax1.grid(False)\n",
      "ax1.legend()\n",
      "\n",
      "# Mostramos los esca\u00f1os en el axis ax2\n",
      "ax2 = ax1.twinx()\n",
      "ax2.bar(np.arange(n) + bar_width, most_voted['Esca\u00f1os'], bar_width, label=u'Esca\u00f1os', color=\"green\")\n",
      "ax2.grid(False)\n",
      "ax2.legend(loc=[0.88, 0.87])\n",
      "\n",
      "# Etiquetamos las barras\n",
      "ax1.set_xticks(np.arange(n) + bar_width/2)\n",
      "ax1.set_xticklabels(['PP', 'PSOE', 'Podemos-IU', 'Cs', 'ECP', 'Podem-EUPV', 'ERC', 'PSC', 'CDC', 'Podemos-Marea'])\n",
      "\n",
      "plt.show() "
     ],
     "language": "python",
     "metadata": {},
     "outputs": []
    },
    {
     "cell_type": "markdown",
     "metadata": {},
     "source": [
      "### Ejercicio 3\n",
      "\n",
      "Aplicad un clasificador basado en un [\u00e1rbol de decisi\u00f3n](https://es.wikipedia.org/wiki/%C3%81rbol_de_decisi%C3%B3n) para predecir los tipos de especie de iris utilizando todos los atributos del dataset. Dibujad el \u00e1rbol de decisi\u00f3n aprendido utilizando la librer\u00eda `networkx`."
     ]
    },
    {
     "cell_type": "markdown",
     "metadata": {},
     "source": [
      "Primero, creamos el clasificador y exportamos los resultados al formato graphviz, indicando que el reultado no se guarde en un fichero sino que se imprima por pantalla."
     ]
    },
    {
     "cell_type": "code",
     "collapsed": false,
     "input": [
      "from sklearn.datasets import load_iris\n",
      "from sklearn import tree\n",
      "%matplotlib inline\n",
      "\n",
      "# Cargamos el dataset iris\n",
      "iris = load_iris()\n",
      "\n",
      "# Creamos un clasificador basado en un \u00e1rbo\u00f1 de decisi\u00f3n y exportamos el resultado al formato graphviz\n",
      "dtree = tree.DecisionTreeClassifier()\n",
      "dtree = dtree.fit(iris.data, iris.target)\n",
      "tree_str = tree.export_graphviz(dtree, out_file=None)"
     ],
     "language": "python",
     "metadata": {},
     "outputs": []
    },
    {
     "cell_type": "markdown",
     "metadata": {},
     "source": [
      "A continuaci\u00f3n, parseamos el \u00e1rbol generado en formato graphviz, y creamos el grafo correspondientes."
     ]
    },
    {
     "cell_type": "code",
     "collapsed": false,
     "input": [
      "import networkx as nx\n",
      "import math\n",
      "import matplotlib.pyplot as plt\n",
      "\n",
      "IDX_INICIO_ARBOL = 14 # El fichero empieza con \"digraph Tree\", que hemos de ignorar\n",
      "\n",
      "\"\"\"\n",
      "Funci\u00f3n que, dada una cadena de texto con formato graphviz, devuelve un grafo \n",
      "de networkx conservando los nodos y arristas.\n",
      "\"\"\"\n",
      "def graphviz_str_to_networkx_graph(tree_str):\n",
      "    g = nx.Graph()\n",
      "    nodes, edges = [], []\n",
      "    \n",
      "    # Iteramos sobre todos los elementos del \u00e1rbol generado.\n",
      "    # Estos elementos pueden ser nodos o arristas.\n",
      "    for element in tree_str[IDX_INICIO_ARBOL:-1].split(\";\"):\n",
      "        if is_node(element):  # A node\n",
      "            # Comprovamos si el nodo es un n\u00famero de dos cifras(> 9).\n",
      "            # En caso afirmativo, la etiqueta del nodo la podemos encontrar a partir \n",
      "            # de la posici\u00f3n 12 de la l\u00ednia. En caso contrario, esta etiqueta la \n",
      "            # podemos encontrar a patir de la posici\u00f3n 11.\n",
      "            if (int(element[1:3]) > 9):\n",
      "                nodes.append((int(element[1:3]), {\"label\": element[12:-3]}))\n",
      "            else:\n",
      "                nodes.append((int(element[1:3]), {\"label\": element[11:-3]}))\n",
      "                \n",
      "        elif is_edge(element):  # An edge\n",
      "            # Eliminamos cualquier espacio en blanco al principio o final de la l\u00ednia\n",
      "            element = element.strip()\n",
      "            \n",
      "            # Si encontramos el atributo labeldistance en la l\u00ednea, lo ignoramos\n",
      "            # y nos quedamos \u00fanicamente con cadenas con formato X -> Y\n",
      "            element = remove_labeldistance_if_present(element)\n",
      "            \n",
      "            # Separamos los dos nodos que conforman la arrista\n",
      "            edge_left_node, edge_right_node = element.split(\"->\")\n",
      "            \n",
      "            # A\u00f1adimos la arrista a la lista de arristas del graf\n",
      "            edges.append((int(edge_left_node), int(edge_right_node)))\n",
      "            \n",
      "    g.add_nodes_from(nodes)\n",
      "    g.add_edges_from(edges)\n",
      "    \n",
      "    return g\n",
      "\n",
      "def is_node(element):\n",
      "    return len(element) > 2 and (element[3] == \"[\" or element[4] == \"[\")\n",
      "\n",
      "def is_edge(element):\n",
      "    return len(element) > 3 and (element [3] == \"-\" or element[4] == \"-\")\n",
      "\n",
      "def remove_labeldistance_if_present(element):\n",
      "    parsed_element = element\n",
      "    if \"labeldistance\" in element:\n",
      "        parsed_element = element.split(\"[\")[0]\n",
      "        \n",
      "    return parsed_element\n",
      "\n",
      "\n",
      "\"\"\"\n",
      "Funci\u00f3n que calcula la posici\u00f3n de los nodos a mostrar en el grafo en funci\u00f3n \n",
      "de la profundidad que presentan en el \u00e1rbol.\n",
      "\"\"\"\n",
      "def tree_positions(g):\n",
      "    pos = {}\n",
      "    max_depth = get_max_depth(g)\n",
      "    depths = {i: 1.0 for i in range(max_depth+1)}\n",
      "    for node in g.nodes():\n",
      "        d = get_depth(g, node)\n",
      "        pos[node] = ( depths[d] / (get_num_nodes_in_depth(g, node) + 1), max_depth - d)\n",
      "        depths[d] = depths[d] + 1\n",
      "    return pos\n",
      "\n",
      "def get_max_depth(g):\n",
      "    return max([get_depth(g, n) for n in g.nodes()])\n",
      "\n",
      "def get_depth(g, node_id):\n",
      "    return nx.shortest_path_length(g, source=0, target=node_id)\n",
      "\n",
      "def get_num_nodes_in_depth(g, node_id):\n",
      "    return 2**get_depth(g, node_id)"
     ],
     "language": "python",
     "metadata": {},
     "outputs": []
    },
    {
     "cell_type": "code",
     "collapsed": false,
     "input": [
      "plt.figure(1, figsize=(20, 20))\n",
      "\n",
      "# Creamos el grafo\n",
      "g = graphviz_str_to_networkx_graph(tree_str)\n",
      "\n",
      "# Calculamos las posiciones de los nodos\n",
      "pos = tree_positions(g)\n",
      "\n",
      "# Sustituimos los caracteres \"\\\\n\" en las etiquetas para mantener los saltos de l\u00ednea\n",
      "l = nx.get_node_attributes(g, \"label\")\n",
      "l = {k: v.replace(\"\\\\n\", \"\\n\") for k, v in l.items()}\n",
      "\n",
      "# Dibujamos el grafo\n",
      "nx.draw_networkx(g, pos=pos, labels=l, node_shape=\"s\", node_size=4000, node_color='#0fafda', font_size=9)"
     ],
     "language": "python",
     "metadata": {},
     "outputs": []
    }
   ],
   "metadata": {}
  }
 ]
}