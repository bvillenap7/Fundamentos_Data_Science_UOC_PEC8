{
 "metadata": {
  "name": "",
  "signature": "sha256:8d60e755d9dc4abd988bc4a084f889593a80cd4b59e7609498875198cd1eaf15"
 },
 "nbformat": 3,
 "nbformat_minor": 0,
 "worksheets": [
  {
   "cells": [
    {
     "cell_type": "heading",
     "level": 1,
     "metadata": {},
     "source": [
      "Programaci\u00f3n para *Data Science*"
     ]
    },
    {
     "cell_type": "markdown",
     "metadata": {},
     "source": [
      "Unidad 8: Visualizaci\u00f3n de datos en Python - Ejercicios y preguntas\n",
      "------------------------------------------------------"
     ]
    },
    {
     "cell_type": "markdown",
     "metadata": {},
     "source": [
      "## Ejercicio 0\n",
      "\n",
      "Cargad el conjunto de datos `pulitzer-circulation-data.csv` en un *dataframe* de pandas. La fuente original de este conjunto de datos es el repositorio de datos de [FiveThirtyEight](https://github.com/fivethirtyeight/data)."
     ]
    },
    {
     "cell_type": "code",
     "collapsed": false,
     "input": [
      "# Respuesta\n"
     ],
     "language": "python",
     "metadata": {},
     "outputs": [],
     "prompt_number": 1
    },
    {
     "cell_type": "markdown",
     "metadata": {},
     "source": [
      "## Pregunta 1\n",
      "\n",
      "\u00bfQu\u00e9 es la regresi\u00f3n lineal simple?  **(1 punto)**"
     ]
    },
    {
     "cell_type": "markdown",
     "metadata": {},
     "source": [
      "#### Respuesta:\n"
     ]
    },
    {
     "cell_type": "markdown",
     "metadata": {},
     "source": [
      "## Ejercicio 1\n",
      "\n",
      "Generad un diagrama de dispersi\u00f3n que permita visualizar las muestras del conjunto de datos de Pulitzer seg\u00fan las variables 'Daily Circulation 2004' y 'Daily Circulation 2013'. Incluid una recta con el ajuste lineal entre ambas variables. **(2.5 puntos)**\n",
      "\n",
      "Pista: pod\u00e9is usar la funci\u00f3n `jointplot` que hemos visto en el Notebook de explicaci\u00f3n. Pensad en qu\u00e9 tipo de gr\u00e1fica, [de entre las que ofrece jointplot](http://seaborn.pydata.org/generated/seaborn.jointplot.html), se ajusta a los requerimientos del enunciado."
     ]
    },
    {
     "cell_type": "code",
     "collapsed": false,
     "input": [
      "# Respuesta\n"
     ],
     "language": "python",
     "metadata": {},
     "outputs": [],
     "prompt_number": 2
    },
    {
     "cell_type": "markdown",
     "metadata": {},
     "source": [
      "## Pregunta 2\n",
      "\n",
      "Observando la gr\u00e1fica generada en el ejercicio anterior, \u00bfcre\u00e9is que existe una relaci\u00f3n lineal entre la circulaci\u00f3n diaria de peri\u00f3dicos en 2004 y en 2013? **(1.5 puntos)**"
     ]
    },
    {
     "cell_type": "markdown",
     "metadata": {},
     "source": [
      "#### Respuesta:\n"
     ]
    },
    {
     "cell_type": "markdown",
     "metadata": {},
     "source": [
      "## Ejercicio 2\n",
      "\n",
      "La polic\u00eda tiene identificados 20 miembros de una banda de atracadores. Ya hace tiempo que est\u00e1n detr\u00e1s de ellos, por lo que han podido rastrear las comunicaciones entre la banda y tienen muy claro qu\u00e9 canales de comunicaci\u00f3n existen entre ellos. Adem\u00e1s, la polic\u00eda tambi\u00e9n ha podido deducir el *modus operandi* de la banda: cada atraco es realizado \u00fanicamente por tres miembros (un conductor, un pistolero y un mochilero) que se encuentran a la hora acordada en un parque de la ciudad. La noche antes del atraco los tres miembros se comunican (ya sea directamente o indirectamente a partir de los canales de comunicaci\u00f3n existentes entre los miembros de la banda), para acordar el lugar y la hora del encuentro.\n",
      "\n",
      "La polic\u00eda ha recibido un chivatazo de que ma\u00f1ana habr\u00e1 un nuevo atraco de la banda. Ya son las 7 de la tarde, por lo que solo pueden realizar una \u00fanica detenci\u00f3n antes de que se produzcan las llamadas que acordar\u00e1n la hora y el lugar de encuentro. \u00bfA qu\u00e9 miembro de la banda detendr\u00edais para evitar el atraco con certeza? Justificad vuestra decisi\u00f3n al jefe de polic\u00eda. **(2.5 puntos)**\n",
      "\n",
      "Para tomar la decisi\u00f3n, ten\u00e9is acceso a los datos sobre la banda que ha ido recopilando la polic\u00eda:\n",
      "- Un grafo con los canales de comunicaci\u00f3n de la banda (dos miembros pueden comunicarse directamente si hay una arista entre ellos en el grafo),\n",
      "- Tres listas que indican los miembros que pueden actuar como pistoleros, conductores y mochileros, respectivamente\n",
      "\n",
      "Nota: el jefe de polic\u00eda puede ser convencido f\u00e1cilmente mostr\u00e1ndole una visualizaci\u00f3n del grafo que demuestre por qu\u00e9 vuestra decisi\u00f3n evitar\u00eda el atraco."
     ]
    },
    {
     "cell_type": "code",
     "collapsed": false,
     "input": [
      "# Datos disponibles para el ejercicio.\n",
      "\n",
      "import networkx as nx\n",
      "\n",
      "# Grafo G, que representa las comunicaciones directas entre miembros de la banda.\n",
      "G = nx.Graph()\n",
      "\n",
      "G.add_edges_from([(1,2), (1,3), (3, 5), (16, 18), (3, 4), (15, 16), (1, 4), (6, 2),  (6, 15), (7, 15), \\\n",
      "                  (7, 8), (8, 9), (4, 6), (9, 7), (9, 10), (7, 10), (4, 5), (2, 5), (10, 11), (11, 12), \\\n",
      "                  (11, 7), (12, 10), (13, 8), (14, 8), (3, 6), (16, 17),  (17, 18), (18, 19), (17, 19),\n",
      "                  (0, 1), (0, 3)])\n",
      "\n",
      "\n",
      "# Lista de miembros pistoleros\n",
      "pistoleros = [15, 16, 17, 18, 19]\n",
      "\n",
      "# Lista de miembros mochileros\n",
      "mochileros = [0, 1, 2, 3, 4, 5, 6]\n",
      "\n",
      "# Lista de miembros conductores\n",
      "conductores = [7, 8, 9, 10, 11, 12, 13, 14]\n"
     ],
     "language": "python",
     "metadata": {},
     "outputs": [],
     "prompt_number": 3
    },
    {
     "cell_type": "code",
     "collapsed": false,
     "input": [
      "# Respuesta\n"
     ],
     "language": "python",
     "metadata": {},
     "outputs": [],
     "prompt_number": 4
    },
    {
     "cell_type": "markdown",
     "metadata": {},
     "source": [
      "#### Respuesta:\n"
     ]
    },
    {
     "cell_type": "markdown",
     "metadata": {},
     "source": [
      "## Ejercicio 3\n",
      "\n",
      "Cread un mapa con la librer\u00eda geoplotlib que muestre 5 lugares donde os gustar\u00eda ir de vacaciones. **(2.5 puntos)**\n",
      "\n",
      "Nota 1: pod\u00e9is guardar las localizaciones en un fichero .csv como el del ejemplo de las paradas de autobuses del notebook de explicaci\u00f3n o bien [cargar directamente los datos](https://github.com/andrea-cuttone/geoplotlib/wiki/User-Guide#loading-data) a partir de un diccionario o un *dataframe*.\n",
      "\n",
      "Nota 2: pod\u00e9is obtener las coordenadas geogr\u00e1ficas de un lugar con el servicio [LangLot.net](http://www.latlong.net/) o usando [Google Maps](https://www.google.es/maps) (en este \u00faltimo caso, una vez hay\u00e1is buscado el lugar, pod\u00e9is extraer las coordenadas de la URL)."
     ]
    },
    {
     "cell_type": "code",
     "collapsed": false,
     "input": [
      "# Respuesta\n"
     ],
     "language": "python",
     "metadata": {},
     "outputs": [],
     "prompt_number": 5
    }
   ],
   "metadata": {}
  }
 ]
}