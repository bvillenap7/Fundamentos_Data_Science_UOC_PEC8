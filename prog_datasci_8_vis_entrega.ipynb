{
 "metadata": {
  "name": "",
  "signature": "sha256:5b65f8a591190db769dfe443b4202339d2e78cf68ebab8df7bd890c845da38d9"
 },
 "nbformat": 3,
 "nbformat_minor": 0,
 "worksheets": [
  {
   "cells": [
    {
     "cell_type": "heading",
     "level": 1,
     "metadata": {},
     "source": [
      "Programaci\u00f3n para *Data Science*"
     ]
    },
    {
     "cell_type": "markdown",
     "metadata": {},
     "source": [
      "Unidad 8: Visualizaci\u00f3n de datos en Python - Ejercicios y preguntas\n",
      "------------------------------------------------------"
     ]
    },
    {
     "cell_type": "markdown",
     "metadata": {},
     "source": [
      "## Ejercicio 0\n",
      "\n",
      "Cargad el conjunto de datos `pulitzer-circulation-data.csv` en un *dataframe* de pandas. La fuente original de este conjunto de datos es el repositorio de datos de [FiveThirtyEight](https://github.com/fivethirtyeight/data)."
     ]
    },
    {
     "cell_type": "code",
     "collapsed": false,
     "input": [
      "# Respuesta\n"
     ],
     "language": "python",
     "metadata": {},
     "outputs": [],
     "prompt_number": 1
    },
    {
     "cell_type": "markdown",
     "metadata": {},
     "source": [
      "## Ejercicio 1\n",
      "\n",
      "Generad un diagrama de dispersi\u00f3n que permita visualizar las muestras del conjunto de datos de pulitzer seg\u00fan las variables 'Daily Circulation 2004' y 'Daily Circulation 2013'. Incluid una recta con el ajuste lineal entre ambas variables. Por lo que respecta a los detalles de visualizaci\u00f3n, limitad la visualizaci\u00f3n de ambos ejes al intervalo (0, 1000000), usad el estilo `whitegrid` de seaborn, y dibujad los puntos y la l\u00ednea en color verde. **(2.5 puntos)**\n",
      "\n",
      "Pista: Pod\u00e9is usar la funci\u00f3n `jointplot` que hemos visto en el notebook de explicaci\u00f3n. Pensad en qu\u00e9 tipo de gr\u00e1fica, [de entre las que ofrece jointplot](http://seaborn.pydata.org/generated/seaborn.jointplot.html), se ajusta a los requerimientos del enunciado."
     ]
    },
    {
     "cell_type": "code",
     "collapsed": false,
     "input": [
      "# Respuesta\n"
     ],
     "language": "python",
     "metadata": {},
     "outputs": []
    },
    {
     "cell_type": "markdown",
     "metadata": {},
     "source": [
      "## Ejercicio 2\n",
      "\n",
      "En la universidad se est\u00e1 preparando un viaje de fin de semestre para ir a esquiar a Suiza. El viaje se realizar\u00e1 por grupos reducidos, lo que agilizar\u00e1 la coordinaci\u00f3n.\n",
      "\n",
      "Dadas las caracter\u00edsticas del viaje, cada grupo deber\u00e1 disponer de algunos recursos para realizarlo: como m\u00ednimo se necesitar\u00e1 una furgoneta y un conductor. Solo los grupos que tengan estos recursos podr\u00e1n realizar el viaje.\n",
      "\n",
      "1. \u00bfCu\u00e1ntos grupos de estudiantes podr\u00e1n realizar el viaje?\n",
      "2. \u00bfCu\u00e1les son los estudiantes que podr\u00e1n ir de viaje?\n",
      "\n",
      "Para tomar la decisi\u00f3n, ten\u00e9is acceso a los siguientes datos sobre los estudiantes de la universidad:\n",
      "- Un grafo con las relaciones entre los estudiantes (dos estudiantes se conocen si hay una arista entre ellos en el grafo),\n",
      "- Dos listas que indican los estudiantes que tienen furgoneta y cu\u00e1les tienen carn\u00e9 de conducir, respectivamente\n",
      "\n",
      "Para poder formar parte de un grupo de viaje, un estudiante debe conocer como m\u00ednimo a otro estudiante del grupo. De este modo puede ponerse en contacto con el grupo y coordinar el viaje. Los estudiantes tienden a formar grupos tan grandes como les sea posible.\n",
      "\n",
      "Nota 1: pod\u00e9is asumir que la capacidad de una furgoneta es infinita ;)\n",
      "\n",
      "Nota 2: para resolver el ejercicio, **deb\u00e9is generar una visualizaci\u00f3n del grafo que os permita responder a las dos preguntas planteadas**. Despu\u00e9s, **\u00a1recordad responder a ambas preguntas!**\n",
      "\n",
      "**(2.5 puntos)**"
     ]
    },
    {
     "cell_type": "code",
     "collapsed": false,
     "input": [
      "# Datos disponibles para el ejercicio\n",
      "\n",
      "import networkx as nx\n",
      "\n",
      "# Grafo G, que representa las relaciones entre los estudiantes\n",
      "G = nx.Graph()\n",
      "\n",
      "G.add_edges_from([(1,2), (1,3), (3, 5), (16, 18), (3, 4), (15, 16), (1, 4), \\\n",
      "                  (7, 8), (8, 9), (9, 7), (9, 10), (7, 10), (4, 5), (2, 5), (10, 11), \\\n",
      "                  (11, 7), (13, 8), (14, 8), (16, 17),  (17, 18), (18, 19), (17, 19),\n",
      "                  (0, 1), (0, 3), (12, 6)])\n",
      "\n",
      "\n",
      "# Lista de estudiantes con furgoneta\n",
      "tienen_furgoneta = [17, 18, 19, 5, 12]\n",
      "\n",
      "# Lista de estudiantes conductores\n",
      "conductores = [15, 16, 5, 6, 7, 8, 9, 10]\n"
     ],
     "language": "python",
     "metadata": {},
     "outputs": [],
     "prompt_number": 2
    },
    {
     "cell_type": "code",
     "collapsed": false,
     "input": [
      "# Respuesta\n"
     ],
     "language": "python",
     "metadata": {},
     "outputs": [],
     "prompt_number": 4
    },
    {
     "cell_type": "markdown",
     "metadata": {},
     "source": [
      "## Ejercicio 3\n",
      "\n",
      "Crea un mapa con la librer\u00eda geoplotlib que muestre las 7 maravillas del mundo moderno. El mapa debe permitir ver la localizaci\u00f3n de cada maravilla y su nombre. **(2.5 puntos)**\n",
      "\n",
      "Nota 1: Pod\u00e9is guardar las localizaciones en un fichero .csv como el del ejemplo de las paradas de autobuses del notebook de explicaci\u00f3n o bien [cargar directamente los datos](https://github.com/andrea-cuttone/geoplotlib/wiki/User-Guide#loading-data) a partir de un diccionario o un dataframe.\n",
      "\n",
      "Nota 2: Pod\u00e9is obtener las coordenadas geogr\u00e1ficas de un lugar con el servicio [LangLot.net](http://www.latlong.net/) o usando [Google Maps](https://www.google.es/maps) (en este \u00faltimo caso, una vez hay\u00e1is buscado el lugar, pod\u00e9is extraer las coordenadas de la url)."
     ]
    },
    {
     "cell_type": "code",
     "collapsed": false,
     "input": [
      "# Respuesta\n"
     ],
     "language": "python",
     "metadata": {},
     "outputs": [],
     "prompt_number": 5
    },
    {
     "cell_type": "markdown",
     "metadata": {},
     "source": [
      "## Ejercicio 4\n",
      "\n",
      "Generad una gr\u00e1fica que muestre el n\u00famero de votos y el n\u00famero de esca\u00f1os obtenidos de los 10 partidos m\u00e1s votados en las elecciones generales en Espa\u00f1a de 2016 para el congreso. Pod\u00e9is generar el tipo de gr\u00e1fica que consider\u00e9is m\u00e1s oportuno, siempre y cuando permita visualizar en **una \u00fanica gr\u00e1fica** ambos resultados (votos y esca\u00f1os), de manera que sea f\u00e1cil comparar ambos resultados. Recordad incluir toda la informaci\u00f3n necesaria para poder interpretar luego la gr\u00e1fica adecuadamente.\n",
      "\n",
      "Nota: para realizar el ejercicio, en primer lugar necesitar\u00e9is buscar y descargar los datos de inter\u00e9s. Despu\u00e9s, habr\u00e1 que preprocesarlos, para finalmente generar la visualizaci\u00f3n que se pide en el ejercicio.\n",
      "\n",
      "**(2.5 puntos)**\n"
     ]
    },
    {
     "cell_type": "code",
     "collapsed": false,
     "input": [
      "# Respuesta\n"
     ],
     "language": "python",
     "metadata": {},
     "outputs": [],
     "prompt_number": 2
    }
   ],
   "metadata": {}
  }
 ]
}