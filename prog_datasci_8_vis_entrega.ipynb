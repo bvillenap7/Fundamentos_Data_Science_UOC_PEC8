{
 "cells": [
  {
   "cell_type": "markdown",
   "metadata": {},
   "source": [
    "<div style=\"width: 100%; clear: both;\">\n",
    "    <div style=\"float: left; width: 50%;\">\n",
    "       <img src=\"http://www.uoc.edu/portal/_resources/common/imatges/marca_UOC/UOC_Masterbrand.jpg\", align=\"left\">\n",
    "    </div>\n",
    "</div>\n",
    "\n",
    "<div style=\"float: right; width: 50%;\">\n",
    "    <p style=\"margin: 0; padding-top: 22px; text-align:right;\">22.401 · Fonaments de Programació</p>\n",
    "    <p style=\"margin: 0; text-align:right;\">Grau en Ciència de Dades Aplicada</p>\n",
    "    <p style=\"margin: 0; text-align:right; padding-button: 100px;\">Estudis d'Informàtica, Multimèdia i Telecomunicació</p>\n",
    "</div>\n",
    "\n",
    "</div>\n",
    "<div style=\"width: 100%; clear: both;\">\n",
    "<div style=\"width:100%;\">&nbsp;</div>"
   ]
  },
  {
   "cell_type": "markdown",
   "metadata": {},
   "source": [
    "\n",
    "Fundamentos de Programación\n",
    "============================\n",
    "\n",
    "PAC 8 - Visualitzación de datos en Python\n",
    "-----------------------------------------------------\n",
    "\n",
    "\n",
    "En este Notebook se encontraréis el conjunto de actividades evaluables como PEC de la asignatura. Veréis que cada una de ellas tiene asociada una puntuación, que indica el peso que tiene la actividad sobre la nota final de la PEC. Adicionalmente, hay un ejercicio opcional, que no tiene puntuación dentro de la PEC, pero que se valora al final del semestre de cara a conceder las matrículas de honor y redondear las notas finales. Podréis sacar la máxima nota de la PEC sin necesidad de hacer este ejercicio. El objetivo de este ejercicio es que sirva como pequeño reto para los estudiantes que quieran profundizar en el contenido de la asignatura.\n",
    "\n",
    "Veréis que todas las actividades de la PEC tienen una etiqueta, que indica los recursos necesarios para llevarla a cabo. Hay tres posibles etiquetas:\n",
    "\n",
    "* <span style=\"font-family: Courier New; background-color: #82b74b; color: #000000; padding: 3px; \">NM</span> **Sólo materiales**: las herramientas necesarias para realizar la actividad se pueden encontrar en los materiales de la asignatura.\n",
    "\n",
    "* <span style = \"font-family: Courier New; background-color: #ffcc5c; color: #000000; padding: 3px; \">EG</span> **Consulta externa guiada**: la actividad puede requerir hacer uso de herramientas que no se encuentran en los materiales de la asignatura, pero el enunciado contiene indicaciones de dónde o cómo encontrar la información adicional necesaria para resolver la actividad.\n",
    "\n",
    "* <span style = \"font-family: Courier New; background-color: #f2ae72; color: #000000; padding: 3px;\">EI</span> **Consulta externa independiente**: la actividad puede requerir hacer uso de herramientas que no se encuentran en los materiales de la asignatura, y el enunciado puede no incluir la descripción de dónde o cómo encontrar esta información adicional. Será necesario que el estudiante busque esta información utilizando los recursos que se han explicado en la asignatura.\n",
    "\n",
    "Es importante notar que estas etiquetas no indican el nivel de dificultad del ejercicio, sino únicamente la necesidad de consulta de documentación externa para su resolución. Además, recordad que las **etiquetas son informativas**, pero podréis consultar referencias externas en cualquier momento (aunque no se indique explícitamente) o puede ser que podáis hacer una actividad sin consultar ningún tipo de documentación. Por ejemplo, para resolver una actividad que sólo requiera los materiales de la asignatura, puedéis consultar referencias externas si queréis, ya sea tanto para ayudaros en la resolución como para ampliar el conocimiento!\n",
    "\n",
    "En cuanto a la consulta de documentación externa en la resolución de los ejercicios, recordad **citar siempre la bibliografía utilizada** para resolver cada actividad.\n",
    "\n",
    "---"
   ]
  },
  {
   "cell_type": "markdown",
   "metadata": {},
   "source": [
    "### Ejercicio 1 (Seaborn)\n",
    "\n",
    "A partir de una web de referencia de datos de sanidad (a https://github.com/datadista/datasets/tree/master/COVID%2019) hemos bajado datos históricos de casos de infección del virus SARS-cov-2 y su severidad, disponibles en el archivo el archivo `provincias_covid19_datos_sanidad_nueva_serie.csv`, donde verás los casos, hospitalizaciones, ingresos en UCI y defunciones, por provincia y fecha.\n",
    "\n",
    "a) Carga los datos en un dataframe de pandas. Agrega (suma) casos, hospitalizaciones, ingresos en UCI por cada provincia, y utilizando Seaborn, representa:\n",
    "\n",
    "* Un histograma de las defunciones (con [`displot`](https://seaborn.pydata.org/generated/seaborn.distplot.html))\n",
    "* Un histograma de las hospitalizaciones (con [`displot`](https://seaborn.pydata.org/generated/seaborn.distplot.html))\n",
    "* Un diagrama de puntos cruzando  defunciones contra hospitalizaciones (con [`jointplot`](https://seaborn.pydata.org/generated/seaborn.jointplot.html))\n",
    "\n",
    "¿Qué representa un punto en la última gráfica?\n",
    "\n",
    "<span style=\"font-family: Courier New; background-color: #ffcc5c; color: #000000; padding: 3px; \">EG</span>\n",
    "**(0.5 puntos)**\n"
   ]
  },
  {
   "cell_type": "code",
   "execution_count": 9,
   "metadata": {},
   "outputs": [],
   "source": [
    "# Respuesta"
   ]
  },
  {
   "cell_type": "markdown",
   "metadata": {},
   "source": [
    "b) Define una nueva variable llamada `sever` que contenga una string de entre` low`, `midlow`,` midhigh`, `high`, en función del *cuartil* de cada provincia respecto al número defunciones.\n",
    "\n",
    "Vuelve a generar el último gráfico del apartado anterior, mostrando ahora una relación entre los casos de UCI y las hospitalizaciones (usando [`scatterplot`](https://seaborn.pydata.org/generated/seaborn.scatterplot.html )). \n",
    "\n",
    "Utiliza diferentes colores para mostrar el grado de severidad definido por la variable `sever`.\n",
    "\n",
    "Sobre los datos mostrados, muestra una recta de regresión de todos los datos utilizando `regplot`. Qué podemos decir después de ver la gráfica?\n",
    "\n",
    "<span style=\"font-family: Courier New; background-color: #ffcc5c; color: #000000; padding: 3px; \">EG</span>  \n",
    "**(1 punto)**"
   ]
  },
  {
   "cell_type": "code",
   "execution_count": 10,
   "metadata": {},
   "outputs": [],
   "source": [
    "# Respuesta"
   ]
  },
  {
   "cell_type": "markdown",
   "metadata": {},
   "source": [
    "c) Existe una clara correlación entre los cuatro índices que contiene la base de datos. Usa un mapa de calor o `heatmap` para visualizar las correlaciones entre los atributos numéricos de este último dataframe.\n",
    "\n",
    "<span style=\"font-family: Courier New; background-color: #82b74b; color: #000000; padding: 3px; \">NM</span>\n",
    "\n",
    "**(0.5 puntos)**"
   ]
  },
  {
   "cell_type": "code",
   "execution_count": 11,
   "metadata": {},
   "outputs": [],
   "source": [
    "# Respuesta"
   ]
  },
  {
   "cell_type": "markdown",
   "metadata": {},
   "source": [
    "d) Representa un plot de parejas mediante la función `pairplot`, marca el color de cada provincia en función de la severidad (variable `sever`).\n",
    "\n",
    "<span style=\"font-family: Courier New; background-color: #82b74b; color: #000000; padding: 3px; \">NM</span>\n",
    "**(0.5 puntos)**"
   ]
  },
  {
   "cell_type": "code",
   "execution_count": 12,
   "metadata": {
    "scrolled": false
   },
   "outputs": [],
   "source": [
    "# Respuesta"
   ]
  },
  {
   "cell_type": "markdown",
   "metadata": {
    "pycharm": {
     "name": "#%% md\n"
    }
   },
   "source": [
    "### Ejercicio 2 (NETWORKX)\n",
    "\n",
    "Con el mismo archivo del ejercicio 1 podemos intentar calcular la correlación de casos entre provincias:\n",
    "\n",
    "a) Calcula la correlación de casos entre todas las provincias a lo largo del tiempo. Visualiza la matriz de correlación de forma clusterizada con la función `clustermap` de Seaborn. Visualmente, qué provincias aparecen menos correlacionadas con el resto?\n",
    "\n",
    "<span style=\"font-family: Courier New; background-color: #ffcc5c; color: #000000; padding: 3px; \">EG</span>\n",
    "**(0.5 puntos)**\n",
    "\n",
    "\n"
   ]
  },
  {
   "cell_type": "code",
   "execution_count": 13,
   "metadata": {},
   "outputs": [],
   "source": [
    "# Respuesta"
   ]
  },
  {
   "cell_type": "markdown",
   "metadata": {},
   "source": [
    "b) Construye un grafo con los elementos de la matriz de correlación anterior de forma que dos provincias estén conectadas cuando presenten una correlación mayor de 0.8. Genera una nueva visualización del grafo. Muestra las etiquetas de las provincias en cada nodo.\n",
    "\n",
    "\n",
    "<span style=\"font-family: Courier New; background-color: #f2ae72; color: #000000; padding: 3px; \">EI</span>\n",
    "**(1 punto)**\n"
   ]
  },
  {
   "cell_type": "code",
   "execution_count": 14,
   "metadata": {},
   "outputs": [],
   "source": [
    "# Respuesta"
   ]
  },
  {
   "cell_type": "markdown",
   "metadata": {},
   "source": [
    "c) Encuentra el componente conexo más grande del grafo (esto es, el subgrafo más grande). Representa sólo el subgrafo más grande de forma que los nodos tengan un tamaño proporcional al máximo de casos de cada provincia y el color indique de forma proporcional la mortalidad (usando por ejemplo un mapa de color secuencia, de forma que el color esté indicando el valor de la variable de interés, ver [aquí](https://matplotlib.org/stable/tutorials/colors/colormaps.html)).\n",
    "\n",
    "\n",
    "\n",
    "<span style=\"font-family: Courier New; background-color: #f2ae72; color: #000000; padding: 3px; \">EI</span>\n",
    "**(1 punto)**\n",
    "\n"
   ]
  },
  {
   "cell_type": "code",
   "execution_count": 15,
   "metadata": {},
   "outputs": [],
   "source": [
    "# Respuesta"
   ]
  },
  {
   "cell_type": "markdown",
   "metadata": {},
   "source": [
    "d) Calcula utilizando las herramientas de `networkx` la ruta de propagación del virus más probable a partir del grafo anterior de correlación de casos entre Zaragoza y Baleares. Muestra la primera ruta.\n",
    "\n",
    "**NOTA** Puedes consultar https://networkx.org/documentation/networkx-1.10/reference/generated/networkx.algorithms.simple_paths.shortest_simple_paths.html para ver cómo buscar caminos entre nodos.\n",
    "\n",
    "<span style=\"font-family: Courier New; background-color: #ffcc5c; color: #000000; padding: 3px; \">EG</span>\n",
    "**(0.5 puntos)**\n"
   ]
  },
  {
   "cell_type": "code",
   "execution_count": 16,
   "metadata": {
    "scrolled": true
   },
   "outputs": [],
   "source": [
    "# Respuesta"
   ]
  },
  {
   "cell_type": "markdown",
   "metadata": {},
   "source": [
    "\n",
    "### Ejercicio 3 (GEOPLOTLIB)\n",
    "\n",
    "Intentaremos mostrar las provincias con un comportamiento relevante en un mapa mediante la librería `geoplotlib`."
   ]
  },
  {
   "cell_type": "markdown",
   "metadata": {},
   "source": [
    "a) Nos faltará una tabla con las coordenadas de longitud y latitud asociadas a cada provincia.\n",
    "\n",
    "* Usar `geocode` de` geopy` para encontrar la latitud y longitud asociada a cada provincia. Añade esta información en un nuevo dataframe que tenga variables `provincia`,`lon` y `lat` (por `longitude`, `latitude`).\n",
    "\n",
    "* Crear un tercer dataframe, con las siguientes columnas para cada uno de los datos de  evolución de los que disponemos: `[Fecha, cod_ine, provincia, Casos, Fallecidos, Hospitalizados, UCI,lat,lon]`\n",
    "\n",
    "<span style=\"font-family: Courier New; background-color: #82b74b; color: #000000; padding: 3px; \">NM</span>\n",
    "**(1.5 puntos)**\n"
   ]
  },
  {
   "cell_type": "code",
   "execution_count": 17,
   "metadata": {},
   "outputs": [],
   "source": [
    "# Respuesta"
   ]
  },
  {
   "cell_type": "markdown",
   "metadata": {},
   "source": [
    "\n",
    "b) Marca en un mapa las provincias que presentaron más de 10 casos en fecha 2020-05-01, utilizando el dataframe generado anteriormente y la librería geoplotlib.\n",
    "\n",
    "<span style=\"font-family: Courier New; background-color: #82b74b; color: #000000; padding: 3px; \">NM</span>\n",
    "**(1 punto)**"
   ]
  },
  {
   "cell_type": "code",
   "execution_count": 18,
   "metadata": {},
   "outputs": [],
   "source": [
    "# Respuesta"
   ]
  },
  {
   "cell_type": "markdown",
   "metadata": {},
   "source": [
    "### Ejercicio 4 (matplotlib)\n",
    "\n",
    "En el último ejercicio representaremos la evolución a lo largo del tiempo de las variables del conjunto de datos usando `matplotlib`.\n",
    "\n",
    "a) Construye un plot con 4 subplots diferentes (2x2, es decir, dos filas y dos columnas) mostrando la evolución temporal de cada índice para los casos de Madrid y Barcelona, indicando las fechas en el eje `x`:\n",
    "\n",
    "`---------------------------------\n",
    "| Casos             | Defunciones |\n",
    "---------------------------------|\n",
    "| Hospitalizaciones | UCI        |\n",
    "---------------------------------`\n",
    "\n",
    "Recuerda etiquetar las figuras, ejes e incluir leyendas.\n",
    "\n",
    "Nota: Puedes usar el módulo `datetime` para procesar la columna de fechas.\n",
    "\n",
    "<span style=\"font-family: Courier New; background-color: #82b74b; color: #000000; padding: 3px; \">NM</span>\n",
    "**(1 punto)**"
   ]
  },
  {
   "cell_type": "code",
   "execution_count": 19,
   "metadata": {},
   "outputs": [],
   "source": [
    "# Respuesta"
   ]
  },
  {
   "cell_type": "markdown",
   "metadata": {},
   "source": [
    "b) Vemos que las series temporales tienen fuertes oscilaciones:\n",
    "\n",
    "- Calcula la media en ventana deslizante a 14 días para cada uno de los índices a fin de reducir la oscilación de cada curva.\n",
    "- Representa en dos plots:\n",
    "  1. Los datos de Defunciones y UCI de Barcelona (en el eje `y`) contra las de Madrid (en el eje` x`), representando una evolución respecto de la otra.\n",
    "  1. Los datos de casos y Hospitalizaciones de Barcelona (en el eje `y`) contra las de Madrid (en el eje` x`).\n",
    " \n",
    "Recuerda etiquetar los plots, ejes e incluir leyendas.\n",
    "\n",
    "Nota: puedes usar la función [`pandas.rolling`](https://pandas.pydata.org/docs/reference/api/pandas.DataFrame.rolling.html) para calcular las medias en ventanas deslizantes.\n",
    "\n",
    "<span style=\"font-family: Courier New; background-color: #ffcc5c; color: #000000; padding: 3px; \">EG</span> **(1 punto)**"
   ]
  },
  {
   "cell_type": "code",
   "execution_count": 20,
   "metadata": {
    "pycharm": {
     "name": "#%%\n"
    },
    "scrolled": true
   },
   "outputs": [],
   "source": [
    "# Respuesta"
   ]
  },
  {
   "cell_type": "markdown",
   "metadata": {},
   "source": [
    "### Ejercicio Opcional\n",
    "\n",
    "Dada la serie\n",
    "\n",
    "$$Z_n = z_{n-1} ^ 2 + c$$\n",
    "\n",
    "y dado un elemento inicial de la serie $z_0 = 0 + i0$\n",
    "\n",
    "1. Escribe una función $f(c, A, N_{max)$, que devuelva el número iteraciones $N$ de la serie anterior necesarias para que el módulo $|z|>A$, siendo $A \\in {\\rm I \\! R}$.\n",
    "2. Calcula y representa una imagen 2D representante $N$ sobre el dominio de $c$ comprendido por $Re (c) \\ subset [-2,1]$, $Im (c) \\ subset [-1,1]$ con los parámetros\n",
    "   ($A = 2$, $n_ {max} = 100$, $z_0 = i0$, Resolución de la imagen =\n",
    "   (800.1200) pixels).\n",
    "  \n",
    "Nota: Te puede ser útil la función `meshgrid` de` numpy`.\n",
    "\n",
    "<span style=\"font-family: Courier New; background-color: #f2ae72; color: #000000; padding: 3px; \">EI</span>"
   ]
  },
  {
   "cell_type": "code",
   "execution_count": 21,
   "metadata": {},
   "outputs": [],
   "source": [
    "# Respuesta"
   ]
  }
 ],
 "metadata": {
  "kernelspec": {
   "display_name": "Python 3",
   "language": "python",
   "name": "python3"
  },
  "language_info": {
   "codemirror_mode": {
    "name": "ipython",
    "version": 3
   },
   "file_extension": ".py",
   "mimetype": "text/x-python",
   "name": "python",
   "nbconvert_exporter": "python",
   "pygments_lexer": "ipython3",
   "version": "3.8.5"
  }
 },
 "nbformat": 4,
 "nbformat_minor": 1
}
