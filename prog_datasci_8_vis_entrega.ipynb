{
 "cells": [
  {
   "cell_type": "markdown",
   "metadata": {},
   "source": [
    "<div style=\"width: 100%; clear: both;\">\n",
    "    <div style=\"float: left; width: 50%;\">\n",
    "       <img src=\"http://www.uoc.edu/portal/_resources/common/imatges/marca_UOC/UOC_Masterbrand.jpg\", align=\"left\">\n",
    "    </div>\n",
    "</div>\n",
    "\n",
    "<div style=\"float: right; width: 50%;\">\n",
    "    <p style=\"margin: 0; padding-top: 22px; text-align:right;\">22.501 · Fundamentos de Programación</p>\n",
    "    <p style=\"margin: 0; text-align:right;\">Grado en Ciencia de Datos Aplicada</p>\n",
    "    <p style=\"margin: 0; text-align:right; padding-button: 100px;\">Estudios de Informática, Multimedia y Telecomunicación</p>\n",
    "</div>\n",
    "</div>\n",
    "<div style=\"width: 100%; clear: both;\">\n",
    "<div style=\"width:100%;\">&nbsp;</div>"
   ]
  },
  {
   "cell_type": "markdown",
   "metadata": {},
   "source": [
    "\n",
    "Fundamentos de Programación\n",
    "============================\n",
    "\n",
    "PEC 8 - Visualización de datos en python\n",
    "-----------------------------------------------------\n",
    "\n",
    "En este Notebook se encontraréis el conjunto de actividades evaluables como PEC de la asignatura. Veréis que cada una de ellas tiene asociada una puntuación, que indica el peso que tiene la actividad sobre la nota final de la PEC. Adicionalmente, hay un ejercicio opcional, que no tiene puntuación dentro de la PEC, pero que se valora al final del semestre de cara a conceder las matrículas de honor y redondear las notas finales. Podréis sacar la máxima nota de la PAC sin necesidad de hacer este ejercicio. El objetivo de este ejercicio es que sirva como pequeño reto para los estudiantes que quieran profundizar en el contenido de la asignatura.\n",
    "\n",
    "Veréis que todas las actividades de la PEC tienen una etiqueta, que indica los recursos necesarios para llevarla a cabo. Hay tres posibles etiquetas:\n",
    "\n",
    "* <span style=\"font-family: Courier New; background-color: #82b74b; color: #000000; padding: 3px; \">NM</span> **Sólo materiales**: las herramientas necesarias para realizar la actividad se pueden encontrar en los materiales de la asignatura.\n",
    "\n",
    "* <span style = \"font-family: Courier New; background-color: #ffcc5c; color: #000000; padding: 3px; \">EG</span> **Consulta externa guiada**: la actividad puede requerir hacer uso de herramientas que no se encuentran en los materiales de la asignatura, pero el enunciado contiene indicaciones de dónde o cómo encontrar la información adicional necesaria para resolver la actividad.\n",
    "\n",
    "* <span style = \"font-family: Courier New; background-color: #f2ae72; color: #000000; padding: 3px;\">EI</span> **Consulta externa independiente**: la actividad puede requerir hacer uso de herramientas que no se encuentran en los materiales de la asignatura, y el enunciado puede no incluir la descripción de dónde o cómo encontrar esta información adicional. Será necesario que el estudiante busque esta información utilizando los recursos que se han explicado en la asignatura.\n",
    "\n",
    "Es importante notar que estas etiquetas no indican el nivel de dificultad del ejercicio, sino únicamente la necesidad de consulta de documentación externa para su resolución. Además, recordad que las **etiquetas son informativas**, pero podréis consultar referencias externas en cualquier momento (aunque no se indique explícitamente) o puede ser que podáis hacer una actividad sin consultar ningún tipo de documentación. Por ejemplo, para resolver una actividad que sólo requiera los materiales de la asignatura, puedéis consultar referencias externas si queréis, ya sea tanto para ayudaros en la resolución como para ampliar el conocimiento!\n",
    "\n",
    "En cuanto a la consulta de documentación externa en la resolución de los ejercicios, recordad **citar siempre la bibliografía utilizada** para resolver cada actividad.\n"
   ]
  },
  {
   "cell_type": "markdown",
   "metadata": {},
   "source": [
    "### Ejercicio 1 (seaborn)\n",
    "\n",
    "En el siguiente dataset en `data/starclass.csv`, encontraréis datos de las estrellas a nuestro alrededor, con información de:\n",
    "\n",
    "\n",
    "- Temperatura absoluta (en K)\n",
    "- Luminosidad relativa (L/Lo)\n",
    "- Radio relativo (R/Ro)\n",
    "- Magnitud absoluta (Mv)\n",
    "- Color (white,Red,Blue,Yellow,yellow-orange etc)\n",
    "- Clase espectral (O,B,A,F,G,K,,M)\n",
    "- Tipo de estrella\n",
    "     - Enana roja (Red Dwarf)\n",
    "     - Enana marrón (Brown Dwarf)\n",
    "     - Enana blanca (White Dwarf)\n",
    "     - Secuencia principal (Main Sequence)\n",
    "     - Supergigantes (SuperGiants)\n",
    "     - Hipergigantes (HyperGiants)\n",
    "\n",
    "Nota:\n",
    "* Lo = 3.828 x 10^26 Watts (Avg Luminosity of Sun)\n",
    "* Ro = 6.9551 x 10^8 m (Avg Radius of Sun)"
   ]
  },
  {
   "cell_type": "markdown",
   "metadata": {},
   "source": [
    "a) Carga el archivo de datos en un objeto pandas. \n",
    "\n",
    "Muestra:\n",
    "\n",
    "- El número de estrellas en el conjunto de datos\n",
    "- Los nombres de las variables.\n",
    "- Las últimas 10 entradas,\n",
    "\n",
    "<span style=\"font-family: Courier New; background-color: #82b74b; color: #000000; padding: 3px; \">NM</span>\n",
    "**(0.5 puntos)**"
   ]
  },
  {
   "cell_type": "code",
   "execution_count": 1,
   "metadata": {},
   "outputs": [],
   "source": [
    "# Respuesta"
   ]
  },
  {
   "cell_type": "markdown",
   "metadata": {},
   "source": [
    "b) Muestra:\n",
    "\n",
    "* Un histograma de la luminosidad (con [`displot`](https://seaborn.pydata.org/generated/seaborn.distplot.html))\n",
    "* Un histograma de los radios. (con [`displot`](https://seaborn.pydata.org/generated/seaborn.distplot.html))\n",
    "* Un diagrama de puntos con las magnitudes absolutas en el eje y y la Temperatura en el eje x. (con [`jointplot`](https://seaborn.pydata.org/generated/seaborn.jointplot.html))\n",
    "\n",
    "<span style=\"font-family: Courier New; background-color: #82b74b; color: #000000; padding: 3px; \">NM</span>\n",
    "**(0.5 puntos)**\n"
   ]
  },
  {
   "cell_type": "code",
   "execution_count": 8,
   "metadata": {},
   "outputs": [],
   "source": [
    "# Respuesta"
   ]
  },
  {
   "cell_type": "markdown",
   "metadata": {},
   "source": [
    "c) Parece que existe una clara correlación entre las variables de la base de datos. Utiliza un mapa de calor para visualizar las correlaciones entre los atributos numéricos de este último dataframe de forma que:\n",
    "\n",
    "- Visualiza el mapa de color de forma que aparezcan los valores de correlación en la figura, con dos decimales\n",
    "- Usa un mapa de color en el que los valores de correlación más elevada sean colores más oscuros.\n",
    "- Haz que en el mapa de color sólo aparezca la semidiagonal inferior (sin mostrar la diagonal). Puedes consultar el argumento `mask` de la documentación de seaborn (https://seaborn.pydata.org/generated/seaborn.heatmap.html)\n",
    "\n",
    "- ¿Qué par de variables están más correlacionadas?\n",
    "\n",
    "\n",
    "<span style=\"fuente-family: Courier New; background-color: #ffcc5c; color: #000000; padding: 3px; \">EG</span>\n",
    "**(1 punto)**"
   ]
  },
  {
   "cell_type": "code",
   "execution_count": 10,
   "metadata": {},
   "outputs": [],
   "source": [
    "# Respuesta"
   ]
  },
  {
   "cell_type": "markdown",
   "metadata": {},
   "source": [
    "### Ejercicio 2\n",
    "\n",
    "A continuación, veremos que las estrellas siguen un determinado patrón en el espacio celeste,\n",
    "específicamente llamado [Diagrama Hertzsprung-Russell](https://es.wikipedia.org/wiki/Diagrama_de_Hertzsprung-Russell) o simplemente Diagrama-HR. Podemos clasificar a las estrellas dibujando sus características a partir de este gráfico.\n",
    "\n",
    "\n",
    "a) Realiza los siguientes pasos:\n",
    "\n",
    "- Muestra los valores de la variable de `Star color`.\n",
    "- Corrige los duplicados y errores de los valores de forma que la codificación sea única y uniforme.\n",
    "- Muestra los valores únicos de color después de la corrección.\n",
    "\n",
    "\n",
    "<span style=\"fuente-family: Courier New; background-color: #ffcc5c; color: #000000; padding: 3px; \">EG</span>\n",
    "**(0.5 puntos)**"
   ]
  },
  {
   "cell_type": "code",
   "execution_count": 28,
   "metadata": {},
   "outputs": [],
   "source": [
    "# Respuesta"
   ]
  },
  {
   "cell_type": "markdown",
   "metadata": {},
   "source": [
    "b) Codifica el tipo estelar (`Star type`) de forma que aparezca el nombre, y no el código numérico, según esta tabla:\n",
    "\n",
    "     0: Enana roja (Red Dwarf)\n",
    "     1: Enana marrón (Brown Dwarf)\n",
    "     2: Enana blanca (White Dwarf)\n",
    "     3: Secuencia principal (Main Sequence)\n",
    "     4: Supergigantes (SuperGiants)\n",
    "     5: Hipergigantes (HyperGiants)\n",
    "\n",
    "<span style=\"fuente-family: Courier New; background-color: #82b74b; color: #000000; padding: 3px; \">NM</span> **(0.5 puntos)**"
   ]
  },
  {
   "cell_type": "code",
   "execution_count": 45,
   "metadata": {},
   "outputs": [],
   "source": [
    "# Respuesta"
   ]
  },
  {
   "cell_type": "markdown",
   "metadata": {},
   "source": [
    "c) Respresenta en un `boxplot` de seaborn las siguientes relaciones:\n",
    "    \n",
    "     - La Magnitud absoluta vs el tipo estelar.\n",
    "     - La Temperatura vs el tipo estelar.\n",
    "\n",
    "De forma adicional al boxplot, muestra en ambas figuras la ubicación de los datos en color negro mediante un [stripplot](https://seaborn.pydata.org/generated/seaborn.stripplot.html).\n",
    "\n",
    "<span style=\"fuente-family: Courier New; background-color: #ffcc5c; color: #000000; padding: 3px; \">EG</span>\n",
    "**(0.5 puntos)**"
   ]
  },
  {
   "cell_type": "code",
   "execution_count": 49,
   "metadata": {},
   "outputs": [],
   "source": [
    "# Respuesta"
   ]
  },
  {
   "cell_type": "markdown",
   "metadata": {},
   "source": [
    "d) Construye el [Diagrama Hertzsprung-Russell](https://es.wikipedia.org/wiki/Diagrama_de_Hertzsprung-Russell) en un `scatterplot` de seaborn con la siguiente configuración:\n",
    "\n",
    "- x: Temperaturas\n",
    "- y: El logaritmo de la luminosidad\n",
    "- Color: La clase espectral\n",
    "- Tamaño de los puntos: El Radio\n",
    "- El estilo del punto: el tipo estelar\n",
    "\n",
    "Nota: Crea una figura de 10x7 para realizar el plote. Modifica la transparencia de los puntos (alfa) a 0.5.\n",
    "\n",
    "<span style=\"fuente-family: Courier New; background-color: #82b74b; color: #000000; padding: 3px; \">NM</span> **(1 punto)**"
   ]
  },
  {
   "cell_type": "code",
   "execution_count": 72,
   "metadata": {},
   "outputs": [],
   "source": [
    "# Respuesta"
   ]
  },
  {
   "cell_type": "markdown",
   "metadata": {
    "pycharm": {
     "name": "#%% md\n"
    }
   },
   "source": [
    "### Ejercicio 3 (NETWORKX)\n",
    "\n",
    "a) Crea un grafo no dirigido de 70 nodos de forma que:\n",
    "\n",
    "- Los nombres de los nodos sean `N1`, $\\cdots$, `N70`\n",
    "- Dos nodos estén conectados si un entero es divisor del otro. Ejemplos:\n",
    "     - `N48` conectará con `N24`\n",
    "     - `N5` no conectará con `N7`\n",
    "     - `N10` conectará con `N5`\n",
    "     - `N3` no conectará con `N2`\n",
    "     - `N70` conectará con `N35`\n",
    "\n",
    "Visualiza el grafo resultante de forma que aparezcan los nombres de los nodos.\n",
    "\n",
    "<span style=\"fuente-family: Courier New; background-color: #f2ae72; color: #000000; padding: 3px; \">EI</span> **(1 punto)**"
   ]
  },
  {
   "cell_type": "code",
   "execution_count": 14,
   "metadata": {},
   "outputs": [],
   "source": [
    "# Respuesta"
   ]
  },
  {
   "cell_type": "markdown",
   "metadata": {},
   "source": [
    "b) Borra los nodos N1, N2, N3, N4 y N5. Muestra las aristas del nodo `N27'\n",
    "\n",
    "\n",
    "<span style=\"fuente-family: Courier New; background-color: #82b74b; color: #000000; padding: 3px; \">NM</span> **(0.5 punto)**"
   ]
  },
  {
   "cell_type": "code",
   "execution_count": 238,
   "metadata": {},
   "outputs": [],
   "source": [
    "# Resposta"
   ]
  },
  {
   "cell_type": "markdown",
   "metadata": {},
   "source": [
    "c) Calcula el tamaño de todos los componentes conexos del grafo. Encuentra programáticamente el mayor componente conexo del grafo, es decir, el sugrafo más grande.\n",
    "\n",
    "Representa sólo el subgrafo mayor de modo que los nodos tengan un color proporcional a la centralidad de cada nodo y que aparezca el nombre del nodo.\n",
    "\n",
    "\n",
    "Nota: Usar eigenvector centrality como [aquí](https://networkx.org/documentation/stable/reference/algorithms/generated/networkx.algorithms.centrality.eigenvector_centrality.html#networkx.algorithms.centrality.eigenvector_centrality)\n",
    "\n",
    "<span style=\"fuente-family: Courier New; background-color: #ffcc5c; color: #000000; padding: 3px; \">EG</span>\n",
    "**(1.5 puntos)**"
   ]
  },
  {
   "cell_type": "code",
   "execution_count": 237,
   "metadata": {},
   "outputs": [],
   "source": [
    "# Respuesta"
   ]
  },
  {
   "cell_type": "markdown",
   "metadata": {},
   "source": [
    "### Ejercicio 4 (GEOPLOTLIB)\n",
    "\n",
    "A lo largo de la historia de los Juegos Olímpicos éstos se han realizado en múltiples ubicaciones en todo el mundo. En este ejercicio intentaremos visualizar en un mapa esta distribución.\n",
    "\n",
    "a) Para realizar una visualización básica de la localización geográfica de las sedes de los Juegos Olímpicos, pedimos:\n",
    "\n",
    "* Carga los datos en un dataframe de pandas conteniendo los datos con la localización de las principales ciudades del planeta del archivo `worldcities.csv`\n",
    "\n",
    "* En un segundo dataframe, carga el archivo con los datos de los Juegos Olímpicos del archivo `olimpics.csv`.\n",
    "\n",
    "* Crea un tercer dataframe, con las siguientes columnas para cada uno de los eventos olímpicos [year,city,country,population,continent,lat,lon]\n",
    "\n",
    "<span style=\"fuente-family: Courier New; background-color: #82b74b; color: #000000; padding: 3px; \">NM</span>\n",
    "**(0.5 puntos)**"
   ]
  },
  {
   "cell_type": "code",
   "execution_count": null,
   "metadata": {},
   "outputs": [],
   "source": [
    "# Respuesta"
   ]
  },
  {
   "cell_type": "markdown",
   "metadata": {},
   "source": [
    "b) Visualiza un mapa del mundo con las posiciones en las que se han celebrado los Juegos Olímpicos, utilizando el dataframe generado anteriormente y la librería geoplotlib.\n",
    "\n",
    "<span style=\"fuente-family: Courier New; background-color: #82b74b; color: #000000; padding: 3px; \">NM</span>\n",
    "**(1 punto)**"
   ]
  },
  {
   "cell_type": "code",
   "execution_count": 1,
   "metadata": {},
   "outputs": [],
   "source": [
    "# Respuesta"
   ]
  },
  {
   "cell_type": "markdown",
   "metadata": {},
   "source": [
    "c) Existen algunas ciudades que han repetido celebraciones. En éste ejercicio deberemos:\n",
    "* Cambiar el color de los puntos que hemos utilizado para ubicar cada ciudad en el apartado anterior para visualizar utilizando distintos colores las veces que se han celebrado los juegos en la misma ciudad.\n",
    "* Añadir una etiqueta, con el número de repeticiones junto al punto.\n",
    "\n",
    "<span style=\"fuente-family: Courier New; background-color: #f2ae72; color: #000000; padding: 3px; \">EI</span>\n",
    "**opcional**"
   ]
  },
  {
   "cell_type": "code",
   "execution_count": 2,
   "metadata": {},
   "outputs": [],
   "source": [
    "# Respuesta"
   ]
  },
  {
   "cell_type": "markdown",
   "metadata": {},
   "source": [
    "### Ejercicio 5 (MATPLOTLIB)\n",
    "\n",
    "\n",
    "A partir de una web de referencia de datos de sanidad (en https://github.com/datadista/datasets/tree/master/COVID%2019) hemos descargado datos históricos de casos de infección del virus sars-cov-2 y su severidad, que tiene en el fichero el archivo `provincias_covid19_datos_sanidad_nueva_serie.csv`, donde verá los casos, hospitalizaciones, ingresos en UCI y defunciones, por provincia y fecha.\n",
    "\n",
    "En el último ejercicio representaremos la evolución a lo largo del tiempo de las variables del conjunto de datos usando `matplotlib`.\n",
    "\n",
    "- Importa los datos como un objeto pandas.\n",
    "- Construye una gráfica con 4 subplots diferentes (2x2, es decir, dos filas y dos columnas) mostrando la evolución temporal de cada índice por los casos de Madrid y Barcelona, indicando las fechas en el eje `x`:\n",
    "\n",
    "```\n",
    "|--------------------------------|\n",
    "| Casos             | Defunciones|\n",
    "|-------------------|------------|\n",
    "| Hospitalizaciones | UCI        |\n",
    "|--------------------------------|\n",
    "```\n",
    "\n",
    "Recuerda etiquetar las figuras, ejes e incluir leyendas. Rota 45 grados las etiquetas de los ejes temporales si crees que ayuda a su lectura.\n",
    "\n",
    "\n",
    "Nota: Puedes utilizar el módulo `datetime` para procesar la columna de fechas.\n",
    "\n",
    "<span style=\"fuente-family: Courier New; background-color: #82b74b; color: #000000; padding: 3px; \">NM</span>\n",
    "**(1 punto)**"
   ]
  },
  {
   "cell_type": "code",
   "execution_count": null,
   "metadata": {},
   "outputs": [],
   "source": [
    "# Respuesta"
   ]
  },
  {
   "cell_type": "markdown",
   "metadata": {},
   "source": [
    "### Ejercicio Opcional\n",
    "\n",
    "Dada la serie del barco ardiente fractal:\n",
    "\n",
    "$$z_{n+1} = (|\\operatorname{Re} \\left(z_n\\right)|+i|\\operatorname{Im} \\left(z_n\\right)|)^2 + c$$\n",
    "\n",
    "y dado un elemento inicial de la serie $z_0 = 0+i0$\n",
    "\n",
    "1. Escribe una función $f(c, A, N_{max})$, que devuelva el número iteraciones $N$ de la serie anterior necesarias para que el módulo $|z|> A$, siendo $A \\in {\\rm I\\!R}$.\n",
    "2. Calcula y representa una imagen 2D representando $N$ sobre el dominio de $c$ comprendido por $Re(c) \\subset [-2,1]$, $Im(c) \\subset [-2,1]$ con los parámetros\n",
    "   ($A=2$, $n_{max}=100$, $z_0 = i0$, Resolución de la imagen =\n",
    "   (800,1200) pixels).\n",
    "  \n",
    "Nota: Puede ser útil la función `meshgrid` de `numpy`.\n",
    "\n",
    "<span style=\"fuente-family: Courier New; background-color: #f2ae72; color: #000000; padding: 3px; \">EI</span>"
   ]
  },
  {
   "cell_type": "code",
   "execution_count": 357,
   "metadata": {},
   "outputs": [],
   "source": [
    "# Resposta"
   ]
  }
 ],
 "metadata": {
  "kernelspec": {
   "display_name": "Python 3",
   "language": "python",
   "name": "python3"
  },
  "language_info": {
   "codemirror_mode": {
    "name": "ipython",
    "version": 3
   },
   "file_extension": ".py",
   "mimetype": "text/x-python",
   "name": "python",
   "nbconvert_exporter": "python",
   "pygments_lexer": "ipython3",
   "version": "3.8.12"
  }
 },
 "nbformat": 4,
 "nbformat_minor": 1
}
