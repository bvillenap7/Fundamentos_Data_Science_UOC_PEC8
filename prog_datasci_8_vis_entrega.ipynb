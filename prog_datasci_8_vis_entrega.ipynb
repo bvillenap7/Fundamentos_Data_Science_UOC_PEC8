{
 "cells": [
  {
   "cell_type": "markdown",
   "metadata": {},
   "source": [
    "<div style=\"width: 100%; clear: both;\">\n",
    "    <div style=\"float: left; width: 50%;\">\n",
    "       <img src=\"http://www.uoc.edu/portal/_resources/common/imatges/marca_UOC/UOC_Masterbrand.jpg\", align=\"left\">\n",
    "    </div>\n",
    "</div>\n",
    "\n",
    "<div style=\"float: right; width: 50%;\">\n",
    "    <p style=\"margin: 0; padding-top: 22px; text-align:right;\">22.501 · Fundamentos de Programación</p>\n",
    "    <p style=\"margin: 0; text-align:right;\">Grado en Ciencia de Datos Aplicada</p>\n",
    "    <p style=\"margin: 0; text-align:right; padding-button: 100px;\">Estudios de Informática, Multimedia y Telecomunicación</p>\n",
    "</div>\n",
    "\n",
    "</div>\n",
    "<div style=\"width: 100%; clear: both;\">\n",
    "<div style=\"width:100%;\">&nbsp;</div>"
   ]
  },
  {
   "cell_type": "markdown",
   "metadata": {},
   "source": [
    "\n",
    "Fundamentos de Programación\n",
    "============================\n",
    "\n",
    "Unidad 8 - Visualitzación de datos en Python\n",
    "-----------------------------------------------------\n",
    "\n",
    "\n",
    "En este Notebook se encontraréis el conjunto de actividades evaluables como PEC de la asignatura. Veréis que cada una de ellas tiene asociada una puntuación, que indica el peso que tiene la actividad sobre la nota final de la PEC. Adicionalmente, hay un ejercicio opcional, que no tiene puntuación dentro de la PEC, pero que se valora al final del semestre de cara a conceder las matrículas de honor y redondear las notas finales. Podréis sacar la máxima nota de la PEC sin necesidad de hacer este ejercicio. El objetivo de este ejercicio es que sirva como pequeño reto para los estudiantes que quieran profundizar en el contenido de la asignatura.\n",
    "\n",
    "Veréis que todas las actividades de la PEC tienen una etiqueta, que indica los recursos necesarios para llevarla a cabo. Hay tres posibles etiquetas:\n",
    "\n",
    "* <span style=\"font-family: Courier New; background-color: #82b74b; color: #000000; padding: 3px; \">NM</span> **Sólo materiales**: las herramientas necesarias para realizar la actividad se pueden encontrar en los materiales de la asignatura.\n",
    "\n",
    "* <span style = \"font-family: Courier New; background-color: #ffcc5c; color: #000000; padding: 3px; \">EG</span> **Consulta externa guiada**: la actividad puede requerir hacer uso de herramientas que no se encuentran en los materiales de la asignatura, pero el enunciado contiene indicaciones de dónde o cómo encontrar la información adicional necesaria para resolver la actividad.\n",
    "\n",
    "* <span style = \"font-family: Courier New; background-color: #f2ae72; color: #000000; padding: 3px;\">EI</span> **Consulta externa independiente**: la actividad puede requerir hacer uso de herramientas que no se encuentran en los materiales de la asignatura, y el enunciado puede no incluir la descripción de dónde o cómo encontrar esta información adicional. Será necesario que el estudiante busque esta información utilizando los recursos que se han explicado en la asignatura.\n",
    "\n",
    "Es importante notar que estas etiquetas no indican el nivel de dificultad del ejercicio, sino únicamente la necesidad de consulta de documentación externa para su resolución. Además, recordad que las **etiquetas son informativas**, pero podréis consultar referencias externas en cualquier momento (aunque no se indique explícitamente) o puede ser que podáis hacer una actividad sin consultar ningún tipo de documentación. Por ejemplo, para resolver una actividad que sólo requiera los materiales de la asignatura, puedéis consultar referencias externas si queréis, ya sea tanto para ayudaros en la resolución como para ampliar el conocimiento!\n",
    "\n",
    "En cuanto a la consulta de documentación externa en la resolución de los ejercicios, recordad **citar siempre la bibliografía utilizada** para resolver cada actividad.\n",
    "\n",
    "---"
   ]
  },
  {
   "cell_type": "markdown",
   "metadata": {},
   "source": [
    "### Ejercicio 1 (Seaborn)\n",
    "\n",
    "A partir de una web de referencia de datos de sanidad (a https://github.com/datadista/datasets/tree/master/COVID%2019) hemos bajado los datos históricos del proceso de vacunación en España, disponible en el archivo `ccaa_vacunas.csv`, ddonde verás entre otros datos, informes actualizados de forma diaria sobre el estado de: \n",
    "\n",
    "* Dosis entregadas Pfizer, Moderna, AstraZeneca  y totales\n",
    "* Dosis administradas\n",
    "* Porcentaje de dosis administradas por 100 habitantes\n",
    "* Porcentaje sobre entregadas\n",
    "* Personas con pauta completa\n",
    "* Porcentaje con pauta completa \n",
    "\n",
    "Verás que ello se publica de forma diaria por cada comunidad autónoma y el agregado para el estado.  \n",
    "\n",
    "a) Carga los datos en un dataframe de pandas. Muestra el número de filas del dataset, los nombres de las variables, y las 5 primeras filas. \n",
    "\n",
    "<span style=\"font-family: Courier New; background-color: #82b74b; color: #000000; padding: 3px; \">NM</span>\n",
    "**(0.5 puntos)**"
   ]
  },
  {
   "cell_type": "code",
   "execution_count": 1,
   "metadata": {},
   "outputs": [],
   "source": [
    "# Respuesta"
   ]
  },
  {
   "cell_type": "markdown",
   "metadata": {},
   "source": [
    "b) Usando los métodos de Seaborn, calcula y representa en dos gràficos de barras: 1) el total de vacunas administradas por CCAA en este periodo en escala logarítmica, mediante una `bar plot` de forma que muestre la vacinaciones para cada CAA y los 4 tipos de vacunas en diferentes barras y, 2) el porcentage de dosis administradas por cada 100 habitantes por CCAA. Ten en cuenta que debes eliminar los valores del estado en este caso, y que se deben leer bien los nombres de las diferentes comunidades en la figura.\n",
    "\n",
    "Según cómo soluciones este ejercicio, te puede ser útil el método `reset_index()` de Pandas.\n",
    "\n",
    "<span style=\"font-family: Courier New; background-color: #ffcc5c; color: #000000; padding: 3px; \">EG</span>\n",
    "**(1.5 puntos)**\n"
   ]
  },
  {
   "cell_type": "code",
   "execution_count": 2,
   "metadata": {},
   "outputs": [],
   "source": [
    "# Respuesta"
   ]
  },
  {
   "cell_type": "markdown",
   "metadata": {},
   "source": [
    "c) Representa el Porcentaje de Dosis administradas por cada Comunidad Autónoma a lo largo del tiempo en una misma gráfica mediante Seaborn.\n",
    "\n",
    "\n",
    "Haz que el eje temporal sea legible.  Recuerda en eliminar los valores del estado. \n",
    "\n",
    "\n",
    "\n",
    "Nota: puedes usar este [link](https://matplotlib.org/3.1.1/gallery/ticks_and_spines/tick-locators.html) para ayudarte \n",
    "\n",
    "<span style=\"font-family: Courier New; background-color: #ffcc5c; color: #000000; padding: 3px; \">EG</span>\n",
    "**(1 puntos)**\n"
   ]
  },
  {
   "cell_type": "code",
   "execution_count": 3,
   "metadata": {},
   "outputs": [],
   "source": [
    "# Respuesta"
   ]
  },
  {
   "cell_type": "markdown",
   "metadata": {},
   "source": [
    "d) Utilizando Seaborn, representa, para los datos publicados a fecha de 2021-10-08: \n",
    "\n",
    "* Un histograma con el porcentaje sobre entregadas. \n",
    "* Un histograma con el porcentaje con pauta completa.\n",
    "* Un diagrama de puntos cruzando las dos variables anteriores (con `jointplot`)\n",
    "\n",
    " Recuerda en eliminar los valores del estado. \n",
    "\n",
    "\n",
    "<span style=\"font-family: Courier New; background-color: #82b74b; color: #000000; padding: 3px; \">NM</span>\n",
    "**(1 punto)**"
   ]
  },
  {
   "cell_type": "code",
   "execution_count": 4,
   "metadata": {},
   "outputs": [],
   "source": [
    "# Respuesta"
   ]
  },
  {
   "cell_type": "markdown",
   "metadata": {},
   "source": [
    "e)  Para la misma fecha que en el ejercicio anterior, utiliza `pairplot` para visualizar un plot de parejas, de las siguientes variables, \n",
    "\n",
    "* Porcentaje de dosis administradas por 100 habitantes\t\n",
    "* Porcentaje con pauta completa\t\n",
    "* Porcentaje sobre entregadas\t\t \n",
    "\n",
    "Utiliza un color para cada comunidad autónoma y representa el color en la leyenda. Configura el plot para que en las diagonales se represente un histograma de los datos.  Recuerda en eliminar los valores del estado. \n",
    "\n",
    "\n",
    "\n",
    "<span style=\"font-family: Courier New; background-color: #82b74b; color: #000000; padding: 3px; \">NM</span>\n",
    "\n",
    "**(0.5 puntos)**"
   ]
  },
  {
   "cell_type": "code",
   "execution_count": 5,
   "metadata": {},
   "outputs": [],
   "source": [
    "# Respuesta"
   ]
  },
  {
   "cell_type": "markdown",
   "metadata": {
    "pycharm": {
     "name": "#%% md\n"
    }
   },
   "source": [
    "### Ejercicio 2 (NETWORKX)\n",
    "\n",
    "\n",
    "Considera un grafo no dirigido con NetworkX con las siguientes propiedades. \n",
    "\n",
    "* El grafo debe tener los siguientes nodos: A, B, C, D, E, F, G, H, I, J, K.\n",
    "* El grafo debe tener las siguientes aristas: (A,B), (A,C), (C,D), (D,F),(D,G), (G,H),(H,I), (H,J), (H,K), (L,E).\n",
    "\n",
    "a) Crea y visualiza el grafo tal y como se ha descrito. \n",
    "\n",
    "<span style=\"font-family: Courier New; background-color: #f2ae72; color: #000000; padding: 3px; \">EI</span>\n",
    "**(1 punto)**\n"
   ]
  },
  {
   "cell_type": "code",
   "execution_count": 6,
   "metadata": {},
   "outputs": [],
   "source": [
    "# Respuesta"
   ]
  },
  {
   "cell_type": "markdown",
   "metadata": {},
   "source": [
    "b) Imprime el número de nodos, el número de aristas, y el número de componentes conexas del grafo.  \n",
    "\n",
    "<span style=\"font-family: Courier New; background-color: #82b74b; color: #000000; padding: 3px; \">NM</span>\n",
    "**(0.5 puntos)**\n"
   ]
  },
  {
   "cell_type": "code",
   "execution_count": 7,
   "metadata": {},
   "outputs": [],
   "source": [
    "# Respuesta"
   ]
  },
  {
   "cell_type": "markdown",
   "metadata": {},
   "source": [
    "c) Calcula la ruta más corta de `K` a `B`.\n",
    "\n",
    "<span style=\"font-family: Courier New; background-color: #f2ae72; color: #000000; padding: 3px; \">EI</span>\n",
    "**(0.5 puntos)**\n",
    "\n"
   ]
  },
  {
   "cell_type": "code",
   "execution_count": 8,
   "metadata": {},
   "outputs": [],
   "source": [
    "# Respuesta"
   ]
  },
  {
   "cell_type": "markdown",
   "metadata": {},
   "source": [
    "d) Elimina el nodo `D`. Calcula el tamaño de todos los componentes conexos del grafo. Encuentra programáticamente el componente conexo más grande del grafo (esto es, el subgrafo más grande). Representa sólo el subgrafo más grande de forma que los nodos tengan un color proporcional al la centralidad de cada nodo.\n",
    "\n",
    "\n",
    "Nota: Usar eigenvector centrality como en  [aquí](https://networkx.org/documentation/stable/reference/algorithms/generated/networkx.algorithms.centrality.eigenvector_centrality.html#networkx.algorithms.centrality.eigenvector_centrality)\n",
    "\n",
    "<span style=\"font-family: Courier New; background-color: #ffcc5c; color: #000000; padding: 3px; \">EG</span>\n",
    "**(1.5 puntos)**"
   ]
  },
  {
   "cell_type": "code",
   "execution_count": 9,
   "metadata": {},
   "outputs": [],
   "source": [
    "# Respuesta"
   ]
  },
  {
   "cell_type": "markdown",
   "metadata": {},
   "source": [
    "\n",
    "### Ejercicio 3 (GEOPLOTLIB)\n",
    "\n",
    "En este ejercicio intentaremos mostrar las antenas de telefonía en España mediante la librería `geoplotlib`."
   ]
  },
  {
   "cell_type": "markdown",
   "metadata": {},
   "source": [
    "Nos faltará una tabla con las coordenadas de longitud y latitud asociadas torre de telefonía. Encontrarás un fichero con todas las torres de telefonía en el directorio de datos (`214.csv`)\n",
    "\n",
    "\n",
    "a)  Visualiza un mapa con un punto en el lugar de cada torre de telefonía indicado en el fichero.  Ajusta los parámetros del plot para que se visualizen correctamente los datos. \n",
    "\n",
    "\n",
    "<span style=\"font-family: Courier New; background-color: #82b74b; color: #000000; padding: 3px; \">NM</span>\n",
    "**(0.5 puntos)**\n"
   ]
  },
  {
   "cell_type": "code",
   "execution_count": 10,
   "metadata": {},
   "outputs": [],
   "source": [
    "# Respuesta"
   ]
  },
  {
   "cell_type": "markdown",
   "metadata": {},
   "source": [
    "a)  Visualiza la densidad de torres en el mapa mediante la función `kde()`, utiliza un *kernel bandwidth* de `[1,1]`.\n",
    "\n",
    "\n",
    "<span style=\"font-family: Courier New; background-color: #ffcc5c; color: #000000; padding: 3px; \">EG</span>\n",
    "**(0.5 puntos)**\n"
   ]
  },
  {
   "cell_type": "code",
   "execution_count": 11,
   "metadata": {},
   "outputs": [],
   "source": [
    "# Respuesta"
   ]
  },
  {
   "cell_type": "markdown",
   "metadata": {},
   "source": [
    "### Ejercicio 4 (matplotlib)\n",
    "\n",
    "Consiera la siguiente curva: \n",
    "\n",
    "\n",
    "$$\n",
    "r = 0.5 + cos(t) + sen(t)\\\\\n",
    "x = r \\cdot cos^2(t) \\\\\n",
    "y = r \\cdot sen^3(t)\n",
    "$$\n",
    "\n",
    "Representa la curva anterior mediante `matplotlib`, con 400 valores de `t` equiespaciados dentro del dominio de $t=0$ hasta $t=2\\pi$.\n",
    "\n",
    "Os recordamos que podéis usar la función `linspace()`de Numpy.\n",
    "\n",
    "\n",
    "<span style=\"font-family: Courier New; background-color: #82b74b; color: #000000; padding: 3px; \">NM</span>\n",
    "**(1 punto)**"
   ]
  },
  {
   "cell_type": "code",
   "execution_count": 12,
   "metadata": {},
   "outputs": [],
   "source": [
    "# Respuesta"
   ]
  },
  {
   "cell_type": "markdown",
   "metadata": {},
   "source": [
    "### Ejercicio Opcional\n",
    "\n",
    "Dada la serie\n",
    "\n",
    "$$\n",
    "Z_n = z_{n-1} ^ 2 + c\n",
    "$$\n",
    "\n",
    "\n",
    "1. Escribe una función $f(c, z_0, A, N_max)$, que devuelva el número iteraciones $N$ de la serie anterior necesarias para que el módulo $|z|>A$, siendo $ A \\in {\\rm I \\! R} $.\n",
    "2. Calcula y representa una imagen 2D representando $N$ sobre el dominio de $z_0$ comprendido por $ Re (c) \\subset [-2,2] $, $ Im (c) \\subset [-1.2,1.2] $ con los parámetros\n",
    "   ($ A = 2 $, $ n_ {max} = 100 $, $ c = 0.7885 cos(2\\pi/3) + 0.7885 sin(2\\pi/3)j  $, Resolución de la imagen =\n",
    "   (800.1200) pixels).\n",
    "  \n",
    "Nota: Te puede ser útil la función `meshgrid` de` numpy`.\n",
    "\n",
    "<span style=\"font-family: Courier New; background-color: #f2ae72; color: #000000; padding: 3px; \">EI</span>"
   ]
  },
  {
   "cell_type": "code",
   "execution_count": 13,
   "metadata": {},
   "outputs": [],
   "source": [
    "# Respuesta"
   ]
  }
 ],
 "metadata": {
  "kernelspec": {
   "display_name": "Python 3",
   "language": "python",
   "name": "python3"
  },
  "language_info": {
   "codemirror_mode": {
    "name": "ipython",
    "version": 3
   },
   "file_extension": ".py",
   "mimetype": "text/x-python",
   "name": "python",
   "nbconvert_exporter": "python",
   "pygments_lexer": "ipython3",
   "version": "3.8.12"
  }
 },
 "nbformat": 4,
 "nbformat_minor": 1
}
