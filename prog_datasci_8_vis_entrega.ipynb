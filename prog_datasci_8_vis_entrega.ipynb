{
 "cells": [
  {
   "cell_type": "markdown",
   "metadata": {},
   "source": [
    "Programación para *Data Science*\n",
    "============================\n",
    "\n",
    "Unidad 8: Visualización de datos en Python\n",
    "-----------------------------------------------------\n"
   ]
  },
  {
   "cell_type": "markdown",
   "metadata": {},
   "source": [
    "## Introducción\n",
    "\n",
    "En este Notebook encontraréis un conjunto de **actividades evaluables** como PEC de la asignatura.\n",
    "\n",
    "Veréis que cada una de ellas tiene asociada una puntuación que indica el peso que tiene la actividad sobre la nota de la PEC. Adicionalmente, hay un ejercicio opcional, que no tiene puntuación dentro de la PEC, pero que se valora al final del semestre de cara a conceder las matrículas de honor y redondear las notas finales. Podéis sacar la máxima nota de la PEC sin necesidad de hacer este ejercicio! El objetivo de este ejercicio es que sirva como pequeño reto para los estudiantes que quieran profundizar en el contenido de la asignatura.\n",
    "\n",
    "Además, veréis que todas las actividades tienen una etiqueta que indica los recursos necesarios para llevarla a cabo. Hay tres posibles etiquetas:\n",
    "\n",
    "* <span style=\"font-family: Courier New; background-color: #82b74b; color: #000000; padding: 3px; \">NM</span> **Sólo materiales**: las herramientas necesarias para realizar la actividad se pueden encontrar en los materiales de la asignatura. \n",
    "\n",
    "* <span style=\"font-family: Courier New; background-color: #ffcc5c; color: #000000; padding: 3px; \">EG</span> **Consulta externa guiada**: la actividad puede requerir hacer uso de herramientas que no se encuentran en los materiales de la asignatura, pero el enunciado contiene indicaciones de dónde o cómo encontrar la información adicional necesaria para resolver la actividad.\n",
    "\n",
    "* <span style=\"font-family: Courier New; background-color: #f2ae72; color: #000000; padding: 3px; \">EI</span> **Consulta externa independente**: la actividad puede requerir hacer uso de herramientas que no se encuentran en los materiales de la asignatura, y el enunciado puede no incluir la descripción de dónde o cómo encontrar esta información adicional. Será necesario que el estudiante busque esta información utilizando los recursos que se han explicado en la asignatura.\n",
    "\n",
    "Es importante notar que estas etiquetas no indican el nivel de dificultad del ejercicio, sino únicamente la necesidad de consulta de documentación externa para su resolución. Además, recordad que las **etiquetas son informativas**, pero podréis consultar referencias externas en cualquier momento (aunque no se indique explícitamente) o puede ser que podáis hacer una actividad sin consultar ningún tipo de documentación. Por ejemplo, para resolver una actividad que sólo requiera los materiales de la asignatura, puedéis consultar referencias externas si queréis, ya sea tanto para ayudaros en la resolución como para ampliar el conocimiento!\n",
    "\n",
    "En cuanto a la consulta de documentación externa en la resolución de los ejercicios, recordad **citar siempre la bibliografía utilizada** para resolver cada actividad."
   ]
  },
  {
   "cell_type": "markdown",
   "metadata": {},
   "source": [
    "---\n",
    "## Ejercicios para la PEC\n",
    "\n",
    "\n",
    "A continuación, encontraréis los **ejercicios que debéis completar en esta PEC** y que forman parte de la evaluación de esta unidad."
   ]
  },
  {
   "cell_type": "markdown",
   "metadata": {},
   "source": [
    "### Ejercicio 1\n",
    "\n",
    "Goodreads es una comunidad web donde los lectores y usuarios pueden mantener un registro de sus libros, sus hábitos de lectura y revisar y evaluar los libros.\n",
    "\n",
    "En este ejercicio exploraremos los datos de **Goodreads** con el dataset `books.csv`. Este dataset se ha extraído y adaptado de [Kaggle](https://www.kaggle.com/jealousleopard/goodreadsbooks). <span style=\"font-family: Courier New; background-color: #82b74b; color: #000000; padding: 3px; \">NM</span> \n",
    "\n",
    "\n",
    "1. Cuántos libros hay según el idioma (*language_code*)? Cuál es el idioma más frecuente? Haz una gráfica del número de libros por idioma sin considerar el más frecuente. (1 punto)\n",
    "\n",
    "\n",
    "2. Muestra el top5 de escritores con más libros publicados. (1 punto)\n",
    "\n",
    "\n",
    "3. Qué escritor del top5 tiene la puntuación media (*average_rating*) más alta? Responde gráficamente esta pregunta utilizando *violinplots*. (0.5 puntos)\n",
    "\n",
    "Nota 1: Podéis consultar información referente a *violinplots* en este [link](https://seaborn.pydata.org/generated/seaborn.violinplot.html).\n",
    "\n",
    "Nota 2: Los *violinplots* son similares a los *boxplots*, pero adicionalmente también muestran la densidad de los datos en los diferentes valores. Normalmente un *violin plot* incluye un marcador para la media de los datos y un marcador que indica el intervalo intercuartil.\n",
    "\n",
    "**Representa las respuestas gráficamente.** \n",
    "\n",
    "\n",
    "**(2.5 puntos)**"
   ]
  },
  {
   "cell_type": "code",
   "execution_count": 1,
   "metadata": {},
   "outputs": [],
   "source": [
    "# Respuesta"
   ]
  },
  {
   "cell_type": "markdown",
   "metadata": {},
   "source": [
    "### Ejercicio 2"
   ]
  },
  {
   "cell_type": "markdown",
   "metadata": {},
   "source": [
    "Un equipo de investigación de los Estados Unidos está haciendo un estudio del impacto del COVID-19 en los diferentes estados del país. Es por eso que requiere de nuestro servicio para estudiar la tasa de mortalidad del país. En este ejercicio trabajaremos con el *dataset* `covid19_US.csv`.<span style=\"font-family: Courier New; background-color: #ffcc5c; color: #000000; padding: 3px; \">EG</span>\n",
    "\n",
    "\n",
    "Se nos han asignado dos tareas:\n",
    "\n",
    "1. Estudiar la relación entre la tasa de mortalidad (*Mortality_Rate*) y las tasas de hospitalización (*Hospitalization_Rate*) y de tests (*Testing_Rate*). Para esta pregunta podéis utilizar el tipo de gráfico que os parezca más adecuado para contestar la pregunta gráficamente. (1 punto)\n",
    "\n",
    "2. Construir un mapa **interactivo** que muestre los puntos donde hay más mortalidad del país. Para esta tarea nos piden crear un mapa utilizando la librería _geoplotlib_ que nos debe permitir ver la distribución del Covid-19. \n",
    "Es importante que en el mapa se distingan las zonas con la tasa de mortalidad inferior y superior a 4% en diferentes colores (verde y rojo respectivamente). (1 punto)\n",
    "\n",
    "**(2 puntos)**"
   ]
  },
  {
   "cell_type": "code",
   "execution_count": 2,
   "metadata": {},
   "outputs": [],
   "source": [
    "# Respuesta"
   ]
  },
  {
   "cell_type": "markdown",
   "metadata": {},
   "source": [
    "### Ejercicio 3\n",
    "\n",
    "Teniendo en cuenta los datos obtenidos en el ejercicio anterior, el equipo americano también nos pide llevar a cabo un análisis descriptivo.\n",
    "En este ejercicio utilizaremos el *dataset* `covid19_US_cases.csv`, que muestra la evolución de los casos de Covid-19 en los diferentes estados desde finales de enero de 2020. <span style=\"font-family: Courier New; background-color: #82b74b; color: #000000; padding: 3px; \">NM</span>\n",
    "\n",
    "1. Cuál es la distribución de casos en Estados Unidos el último mes (abril)? **Muestra gráficamente los resultados para cada grupo (activos, recuperados y muertos), pero sin separar por estados.** (1 punto)\n",
    "\n",
    "2. Adicionalmente, se nos pide generar una gráfica que muestre la evolución de los casos confirmados en el estado de Nueva York, Massachusetts, Washington, California y Texas desde el inicio de la pandemia. Qué región es la más afectada? (1.5 puntos)\n",
    "\n",
    "\n",
    "Nota 1: En el apartado 1, para sumar todos los casos de US se puede utilizar la función groupby de pandas que hemos visto en lecciones anteriores.\n",
    "\n",
    "Nota 2: La visualización de los datos debería ser atractiva y clara a fin de que se puedan sacar conclusiones de ellas.\n",
    "\n",
    "\n",
    "**(2.5 puntos)**"
   ]
  },
  {
   "cell_type": "code",
   "execution_count": 3,
   "metadata": {},
   "outputs": [],
   "source": [
    "# Respuesta"
   ]
  },
  {
   "cell_type": "markdown",
   "metadata": {},
   "source": [
    "### Ejercicio 4\n",
    "\n",
    "A partir de los datos de twitter se pueden crear redes de relaciones entre sus usuarios. En este ejercicio trabajaremos con el conjunto de datos `politics_twitter.csv`, que constituye una red de las relaciones entre diferentes políticos de España generada a partir de extracciones de twitter. <span style=\"font-family: Courier New; background-color: #ffcc5c; color: #000000; padding: 3px; \">EG</span>\n",
    "\n",
    "Cada fila representa un link entre 2 políticos (P1 y P2) y el valor (*Weight*) indica la fuerza de la conexión, en este caso 1 ya que sólo hace referencia a la presencia de esta relación.\n",
    "\n",
    "1. Cuántas comunidades se pueden detectar en el grafo? (0.5 puntos)\n",
    "\n",
    "2. Representa gráficamente el grafo y pinta de diferente color cada comunidad detectada. (1.5 puntos)\n",
    "\n",
    "3. Cuál es el político más importante de esta red? (1 punto)\n",
    "\n",
    "\n",
    "Nota: La importancia de un nodo dentro de una red se puede medir con el número de nodos a los que está conectado. Esta característica se conoce con el nombre de **degree_centrality**. Puede ver este [link](https://networkx.github.io/documentation/stable/reference/algorithms/generated/networkx.algorithms.centrality.degree_centrality.html#networkx.algorithms.centrality.degree_centrality) para más información: \n",
    "\n",
    "**(3 puntos)**"
   ]
  },
  {
   "cell_type": "code",
   "execution_count": 4,
   "metadata": {},
   "outputs": [
    {
     "data": {
      "text/html": [
       "<div>\n",
       "<style scoped>\n",
       "    .dataframe tbody tr th:only-of-type {\n",
       "        vertical-align: middle;\n",
       "    }\n",
       "\n",
       "    .dataframe tbody tr th {\n",
       "        vertical-align: top;\n",
       "    }\n",
       "\n",
       "    .dataframe thead th {\n",
       "        text-align: right;\n",
       "    }\n",
       "</style>\n",
       "<table border=\"1\" class=\"dataframe\">\n",
       "  <thead>\n",
       "    <tr style=\"text-align: right;\">\n",
       "      <th></th>\n",
       "      <th>P1</th>\n",
       "      <th>P2</th>\n",
       "      <th>Weight</th>\n",
       "    </tr>\n",
       "  </thead>\n",
       "  <tbody>\n",
       "    <tr>\n",
       "      <th>0</th>\n",
       "      <td>KRLS</td>\n",
       "      <td>IreneMontero</td>\n",
       "      <td>1</td>\n",
       "    </tr>\n",
       "    <tr>\n",
       "      <th>1</th>\n",
       "      <td>LauraBorras</td>\n",
       "      <td>IreneMontero</td>\n",
       "      <td>1</td>\n",
       "    </tr>\n",
       "    <tr>\n",
       "      <th>2</th>\n",
       "      <td>gabrielrufian</td>\n",
       "      <td>IreneMontero</td>\n",
       "      <td>1</td>\n",
       "    </tr>\n",
       "    <tr>\n",
       "      <th>3</th>\n",
       "      <td>AdaColau</td>\n",
       "      <td>IreneMontero</td>\n",
       "      <td>1</td>\n",
       "    </tr>\n",
       "    <tr>\n",
       "      <th>4</th>\n",
       "      <td>Jaumeasens</td>\n",
       "      <td>IreneMontero</td>\n",
       "      <td>1</td>\n",
       "    </tr>\n",
       "  </tbody>\n",
       "</table>\n",
       "</div>"
      ],
      "text/plain": [
       "              P1            P2  Weight\n",
       "0           KRLS  IreneMontero       1\n",
       "1    LauraBorras  IreneMontero       1\n",
       "2  gabrielrufian  IreneMontero       1\n",
       "3       AdaColau  IreneMontero       1\n",
       "4     Jaumeasens  IreneMontero       1"
      ]
     },
     "execution_count": 4,
     "metadata": {},
     "output_type": "execute_result"
    }
   ],
   "source": [
    "import numpy as np\n",
    "import pandas as pd\n",
    "import matplotlib.pyplot as plt\n",
    "import networkx as nx \n",
    "\n",
    "# Cargamos los datos del fichero book1.csv en un dataframe\n",
    "twitter = pd.read_csv('data/politics_twitter.csv')\n",
    "\n",
    "# Visualizamos las primeras filas del dataset\n",
    "twitter.head()"
   ]
  },
  {
   "cell_type": "code",
   "execution_count": 5,
   "metadata": {},
   "outputs": [],
   "source": [
    "# Datos disponibles para el ejercicio\n",
    "\n",
    "# Creamos un objeto grafo vacío\n",
    "G_twitter= nx.Graph()\n",
    "\n",
    "# Iteramos para todas las filas del dataset\n",
    "for _, edge in twitter.iterrows():\n",
    "    G_twitter.add_edge(edge['P1'], edge['P2'], weight=edge['Weight'])  "
   ]
  },
  {
   "cell_type": "code",
   "execution_count": 6,
   "metadata": {},
   "outputs": [],
   "source": [
    "# Respuesta"
   ]
  },
  {
   "cell_type": "markdown",
   "metadata": {},
   "source": [
    "### Ejercicio Opcional\n",
    "\n",
    "La saga Marvel es conocida por las complicadas interacciones entre sus personajes.\n",
    "Al estar formada por diferentes películas, tiene sentido que la importancia de los personajes cambie durante la saga. Así pues, estudiaremos la evolución de los personajes mediante la red de relaciones de las películas de _Avengers_ (Avengers, Avengers infinity war, Avengers age of Ultron, Avengers End game).\n",
    "\n",
    "Trabajaremos con la base de datos `marvel_movies.csv`, que constituye una red de las relaciones entre los personajes de toda la saga de _Marvel_.<span style=\"font-family: Courier New; background-color: #f2ae72; color: #000000; padding: 3px; \">EI</span>\n",
    "\n",
    "- Cuál es el personaje más importante de cada película de Avengers?\n",
    "- Muestra gráficamente cómo varía la importancia de Tony Stark, Thor, Steve Rogers, Bruce Banner y Natasha Romanov en cada película."
   ]
  },
  {
   "cell_type": "code",
   "execution_count": 7,
   "metadata": {},
   "outputs": [],
   "source": [
    "# Respuesta"
   ]
  }
 ],
 "metadata": {
  "kernelspec": {
   "display_name": "Python 3",
   "language": "python",
   "name": "python3"
  },
  "language_info": {
   "codemirror_mode": {
    "name": "ipython",
    "version": 3
   },
   "file_extension": ".py",
   "mimetype": "text/x-python",
   "name": "python",
   "nbconvert_exporter": "python",
   "pygments_lexer": "ipython3",
   "version": "3.7.6"
  }
 },
 "nbformat": 4,
 "nbformat_minor": 2
}
