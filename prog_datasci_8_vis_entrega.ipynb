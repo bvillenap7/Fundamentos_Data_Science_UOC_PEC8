{
 "cells": [
  {
   "cell_type": "markdown",
   "metadata": {},
   "source": [
    "Programación para *Data Science*\n",
    "============================\n",
    "\n",
    "Unidad 8: Visualitzación de datos en Python\n",
    "-----------------------------------------------------\n",
    "\n",
    "# Introducción\n",
    "\n",
    "En este Notebook encontraréis dos conjuntos de ejercicios: un primer conjunto de **ejercicios para practicar** y un segundo conjunto de **actividades evaluables** como PEC de la asignatura.\n",
    "\n",
    "En cuanto al conjunto de ejercicios para practicar, éstos no puntúan para la PEC, pero os recomendamos que los intentéis resolver como parte del proceso de aprendizaje. Encontraréis ejemplos de posibles soluciones a los ejercicios al propio notebook, pero es importante que intentéis resolverlos vosotros antes de consultar las soluciones. Las soluciones os permitirán validar vuestras respuestas, así como ver alternativas de resolución de las actividades. También os animamos a preguntar cualquier duda que surja sobre la resolución de los **ejercicios para practicar** en el foro del aula.\n",
    "\n",
    "En relación a las actividades evaluables, veréis que cada una de ellas tiene asociada una puntuación que indica el peso que tiene la actividad sobre la nota de la PEC. Adicionalmente, hay un ejercicio opcional, que no tiene puntuación dentro de la PEC, pero que se valora al final del semestre de cara a conceder las matrículas de honor y redondear las notas finales. Podéis sacar la máxima nota de la PEC sin necesidad de hacer este ejercicio! El objetivo de este ejercicio es que sirva como pequeño reto para los estudiantes que quieran profundizar en el contenido de la asignatura.\n",
    "\n",
    "Además, veréis que todas las actividades tienen una etiqueta que indica los recursos necesarios para llevarla a cabo. Hay tres posibles etiquetas:\n",
    "\n",
    "* <span style=\"font-family: Courier New; background-color: #82b74b; color: #000000; padding: 3px; \">NM</span> **Sólo materiales**: las herramientas necesarias para realizar la actividad se pueden encontrar en los materiales de la asignatura. \n",
    "\n",
    "* <span style=\"font-family: Courier New; background-color: #ffcc5c; color: #000000; padding: 3px; \">EG</span> **Consulta externa guiada**: la actividad puede requerir hacer uso de herramientas que no se encuentran en los materiales de la asignatura, pero el enunciado contiene indicaciones de dónde o cómo encontrar la información adicional necesaria para resolver la actividad.\n",
    "\n",
    "* <span style=\"font-family: Courier New; background-color: #f2ae72; color: #000000; padding: 3px; \">EI</span> **Consulta externa independente**: la actividad puede requerir hacer uso de herramientas que no se encuentran en los materiales de la asignatura, y el enunciado puede no incluir la descripción de dónde o cómo encontrar esta información adicional. Será necesario que el estudiante busque esta información utilizando los recursos que se han explicado en la asignatura.\n",
    "\n",
    "Es importante notar que estas etiquetas no indican el nivel de dificultad del ejercicio, sino únicamente la necesidad de consulta de documentación externa para su resolución. Además, recordad que las **etiquetas son informativas**, pero podréis consultar referencias externas en cualquier momento (aunque no se indique explícitamente) o puede ser que podáis hacer una actividad sin consultar ningún tipo de documentación. Por ejemplo, para resolver una actividad que sólo requiera los materiales de la asignatura, puedéis consultar referencias externas si queréis, ya sea tanto para ayudaros en la resolución como para ampliar el conocimiento!\n",
    "\n",
    "En cuanto a la consulta de documentación externa en la resolución de los ejercicios, recordad **citar siempre la bibliografía utilizada** para resolver cada actividad."
   ]
  },
  {
   "cell_type": "markdown",
   "metadata": {},
   "source": [
    "---"
   ]
  },
  {
   "cell_type": "markdown",
   "metadata": {},
   "source": [
    "## Ejercicios para practicar\n",
    "\n",
    "**Los siguientes 3 ejercicios no puntúan para la PEC**, pero os recomendamos que los intentéis resolver antes de pasar a los ejercicios propios de la PEC. También encontraréis las soluciones a estos ejercicios al final del Notebook."
   ]
  },
  {
   "cell_type": "markdown",
   "metadata": {},
   "source": [
    "### Ejercicio 1\n",
    "\n",
    "Cargad el conjunto de datos `pulitzer-circulation-data.csv` en un dataframe de Pandas. La fuente original de este conjunto de datos es el repositorio de datos de [FiveThirtyEight] (https://github.com/fivethirtyeight/data).\n",
    "\n",
    "Cread un diagrama de dispersión que permita visualizar las muestras del conjunto de datos de pulitzer según las variables `Daily Circulation 2004` y `Daily Circulation 2013`. Incluid una recta con el ajuste lineal entre las dos variables. En cuanto a los detalles de visualización, limitad la visualización de ambos ejes en el intervalo (0, 1000000), utilice el estilo `whitegrid` de Seaborn, y dibuja los puntos y la línea en color verde.\n",
    "\n",
    "Pista: podéis utilizar la función `jointplot` que hemos visto en el Notebook de explicación. Considerad qué tipo de gráfica, [de entre las que ofrece jointplot] (http://seaborn.pydata.org/generated/seaborn.jointplot.html), se ajusta a los requerimientos del enunciado."
   ]
  },
  {
   "cell_type": "code",
   "execution_count": 1,
   "metadata": {},
   "outputs": [],
   "source": [
    "# Respuesta"
   ]
  },
  {
   "cell_type": "markdown",
   "metadata": {},
   "source": [
    "### Ejercicio 2\n",
    "\n",
    "_Juego de Tronos_ es una serie de televisión basada en la famosa saga _Una Canción de Fuego y Hielo_ de George RR Martin. Esta serie es conocida por sus complejos escenarios políticos y bélicos, así como las numerosas muertes de personajes.\n",
    "\n",
    "En este ejercicio trabajamos con el dataset `battles.csv` que nos da información sobre las batallas que han tenido lugar a lo largo de _Juego de Tronos_.\n",
    "\n",
    "Cread un diagrama de puntos (_scatter_) que permita comparar el tamaño ( `attacker_size` vs` defender_size`) de los dos principales ejércitos involucrados en cada batalla. Utilizad la columna `attacker_outcome` para mostrar con diferentes colores el resultado de la batalla por el atacante.\n",
    "\n",
    "Podéis utilizar la función [ `lmplot`] (https://seaborn.pydata.org/generated/seaborn.lmplot.html) de Seaborn para generar la gráfica. Considerad qué atributos nos permiten crear este tipo de visualización.\n",
    "\n",
    "Viendo la gráfica, podemos afirmar que el tamaño del ejército es determinante en el _outcome_ de la batalla?\n",
    "\n",
    "Nota: utilizad el estilo `whitegrid` de Seaborn.\n"
   ]
  },
  {
   "cell_type": "code",
   "execution_count": 2,
   "metadata": {},
   "outputs": [],
   "source": [
    "# Respuesta"
   ]
  },
  {
   "cell_type": "markdown",
   "metadata": {},
   "source": [
    "### Ejercicio 3\n",
    "\n",
    "En los reinos de Poniente, los Grandes Maestros consideran que todo el mundo debería tener acceso a una biblioteca. Desgraciadamente, después de una gran guerra la red de carreteras que comunican estos reinos ha quedado gravemente afectada. Los Grandes Maestros nos han contratado para resolver las siguientes cuestiones:\n",
    "\n",
    "1. ¿Qué reinos han quedado sin poder acceder a una biblioteca?\n",
    "2. ¿Cuál es el número mínimo de bibliotecas que se deberían construir para que todo el mundo vuelva a tener acceso a una biblioteca? (Si no podemos re-construir ninguna carretera)\n",
    "3. ¿Cuál es el coste mínimo de re-construcción de carreteras a fin de que todo el mundo vuelva a tener acceso a una biblioteca? (Si no podemos construir ninguna biblioteca)\n",
    "4. Viendo la respuesta de la pregunta 2 y 3, que sería lo más óptimo teniendo en cuenta que queremos minimizar los costes?\n",
    "\n",
    "Para poder responder a estas preguntas, los Grandes Maestros nos facilitan la siguiente información:\n",
    "\n",
    "- Disponemos de un grafo con el estado de la red de carreteras entre los reinos.\n",
    "- Disponemos de un listado con las ciudades que disponen de una biblioteca.\n",
    "- Una ciudad se considera que tiene acceso a una biblioteca si existe una biblioteca en la misma ciudad o si los habitantes pueden viajar por carretera hasta otra ciudad con biblioteca.\n",
    "- El coste de construir una biblioteca es de 150.000 €.\n",
    "- El coste de re-construir una carretera es de 80.000 €.\n",
    "\n",
    "Nota: para resolver el ejercicio, **tenéis que generar una visualización del grafo que os permita responder a las cuatro preguntas planteadas**. Después, **recuerda responder a las cuatro preguntas!**"
   ]
  },
  {
   "cell_type": "code",
   "execution_count": 3,
   "metadata": {},
   "outputs": [],
   "source": [
    "# Datos disponibles para el ejercicio\n",
    "\n",
    "import networkx as nx\n",
    "\n",
    "# Lista de carreteras transitables\n",
    "carreteras_ok = [(1,3), (3,4), (2, 7), (2, 8), (5, 6), (9, 10)]\n",
    "\n",
    "# Lista de carreteras cortadas\n",
    "carreteras_ko = [(1, 2), (2, 4), (2, 5), (8, 9)]\n",
    "\n",
    "# Graf G, que representa la red de carreteras entre las ciudades\n",
    "G = nx.Graph()\n",
    "\n",
    "G.add_edges_from(carreteras_ok)\n",
    "G.add_edges_from(carreteras_ko) \n",
    "\n",
    "# Lista de ciudades con biblioteca\n",
    "ciudades_con_biblioteca = [3, 6, 9]"
   ]
  },
  {
   "cell_type": "code",
   "execution_count": 4,
   "metadata": {},
   "outputs": [],
   "source": [
    "# Respuesta"
   ]
  },
  {
   "cell_type": "markdown",
   "metadata": {},
   "source": [
    "---\n",
    "\n",
    "## Ejercicios para la PEC\n",
    "\n",
    "A continuación encontraréis los **ejercicios y preguntas teóricas que debe completar en esta PEC** y que forman parte de la evaluación de esta unidad."
   ]
  },
  {
   "cell_type": "markdown",
   "metadata": {},
   "source": [
    "### Ejercicio 1\n",
    "\n",
    "Pokemon es una saga RPG muy famosa a nivel mundial. La misión de estos juegos es capturar y entrenar a los pokemon, unas criaturas que habitan en todo el continente, para hacerse con el título de maestro de la liga Pokemon. Los Pokemons son criaturas muy diversas, hay muchos tipos diferentes y algunos de ellos pueden evolucionar.\n",
    "\n",
    "En este ejercicio exploraremos los Pokemons de la primera generación con el dataset `pokemon.csv`. <span style=\"font-family: Courier New; background-color: #82b74b; color: #000000; padding: 3px; \">NM</span> \n",
    "\n",
    "\n",
    "1. ¿Cuántos Pokemons legendarios hay? Cuántos Pokemons hay de cada tipo de evolución (_variable Stage_)?\n",
    "\n",
    "2. ¿Cuál es el tipo más frecuente? Y el menos?\n",
    "\n",
    "3. Un nuevo entrenador tiene que escoger entre 3 Pokemons iniciales (Bulbasaur, Charmander y Squirtle) y nos ha pedido que le ayudemos a decidir basándonos en las estadísticas de los pokemons de estos tres tipos (Grass, Fire y Water) . Si nos centramos sólo en las características de ataque y defensa, qué tipo deberíamos recomendar?\n",
    "\n",
    "**Representa las respuestas gráficamente.**\n",
    "\n",
    "Pista: podéis utilizar la función jointplot que hemos visto en el Notebook de teoría. Considerad qué tipo de gráfica, de entre las que ofrece jointplot, se ajusta a los requerimientos del enunciado.\n",
    "\n",
    "**(2.5 puntos)**"
   ]
  },
  {
   "cell_type": "code",
   "execution_count": 5,
   "metadata": {},
   "outputs": [],
   "source": [
    "# Respuesta"
   ]
  },
  {
   "cell_type": "markdown",
   "metadata": {},
   "source": [
    "### Exercici 2"
   ]
  },
  {
   "cell_type": "markdown",
   "metadata": {},
   "source": [
    "La ciudad de Barcelona está realizando un estudio para ampliar las áreas verdes de la ciudad. Es por ello que el ayuntamiento de Barcelona requiere de nuestro servicio para construir un mapa **interactivo** que muestre los puntos donde hay árboles y palmeras en la ciudad.\n",
    "\n",
    "Nos piden crear un mapa utilizando la librería _geoplotlib_ que nos debe permitir ver la localización de cada árbol/palmera. <span style=\"font-family: Courier New; background-color: #ffcc5c; color: #000000; padding: 3px; \">EG</span>\n",
    "\n",
    "Nota 1: Puede obtener los datos del arbolado de zona de la ciudad de Barcelona en el portal [Open Data BCN](https://opendata-ajuntament.barcelona.cat/data/es/dataset) y [cargar los datos](https://github.com/andrea-cuttone/geoplotlib/wiki/user-Guide#loading-data) a partir de un diccionario o un dataframe. Sino también puede cargar el conjunto de datos `arbrat_zona.csv` **(que os proporcionamos junto con el enunciado de la PEC)**.\n",
    "\n",
    "Nota 2: Es importante que los tipos diferentes de zonas (arbol o palmera) tengan distinto color en el mapa.\n",
    "\n",
    "**(2.5 puntos)**"
   ]
  },
  {
   "cell_type": "code",
   "execution_count": 6,
   "metadata": {},
   "outputs": [],
   "source": [
    "# Respuesta"
   ]
  },
  {
   "cell_type": "markdown",
   "metadata": {},
   "source": [
    "### Ejercicio 3\n",
    "\n",
    "Teniendo en cuenta los datos obtenidos en el ejercicio anterior, el ayuntamiento de Barcelona también nos pide llevar a cabo un análisis descriptivo de los árboles. <span style=\"font-family: Courier New; background-color: #82b74b; color: #000000; padding: 3px; \">NM</span> \n",
    "\n",
    "1. ¿Cuántos árboles y cuántas palmeras han plantado cada año? **Ver resultados separados para cada grupo (árbol y palmera).**\n",
    "\n",
    "2. Adicionalmente, se nos pide generar una gráfica que muestre la **distribución** de los meses en los que se han plantado árboles y palmeras en los últimos 3 años (de 2017 2019).\n",
    "\n",
    "Nota 1: La columna con la información de la fecha de plantación tiene missing. Por lo tanto, se deben seleccionar sólo aquellas filas con este dato.\n",
    "\n",
    "Nota 2: Para obtener la información del mes y año a partir de la fecha, puede utilizar la función _DatetimeIndex_ de la librería pandas.\n",
    "\n",
    "Nota 3: La visualización de los datos debería ser atractiva y clara a fin de que los responsables del ayuntamiento puedan sacar conclusiones de ellas.\n",
    "\n",
    "\n",
    "**(2.5 puntos)**"
   ]
  },
  {
   "cell_type": "code",
   "execution_count": 7,
   "metadata": {},
   "outputs": [],
   "source": [
    "# Respuesta"
   ]
  },
  {
   "cell_type": "markdown",
   "metadata": {},
   "source": [
    "### Ejercicio 4\n",
    "\n",
    "Juego de Tronos es conocida por las complicadas interacciones entre sus personajes. En este ejercicio trabajaremos con el conjunto de datos `book1.csv` que constituye una red de las relaciones entre los personajes del primer libro de _Juego de Tronos_. <span style=\"font-family: Courier New; background-color: #ffcc5c; color: #000000; padding: 3px; \">EG</span>\n",
    "\n",
    "Cada fila representa un link entre 2 personajes (Source y Target) y el valor (Weight) indica el número de veces que han interaccionado.\n",
    "\n",
    "1. Representad gráficamente el grafo y pintad de diferente color cada comunidad detectada.\n",
    "\n",
    "2. Cuál es el personaje más importante del primer libro de Juego de Tronos?\n",
    "\n",
    "Nota: La importancia de un nodo dentro de una red se mide con el número de nodos a los que está conectado. Esta característica se conoce con el nombre de **degree_centrality**. Podéis ver este [link](https://networkx.github.io/documentation/stable/reference/algorithms/generated/networkx.algorithms.centrality.degree_centrality.html#networkx.algorithms.centrality.degree_centrality) para más información:\n",
    "\n",
    "**(2.5 puntos)**"
   ]
  },
  {
   "cell_type": "code",
   "execution_count": 8,
   "metadata": {},
   "outputs": [],
   "source": [
    "# Datos disponibles para el ejercicio\n",
    "\n",
    "import numpy as np\n",
    "import pandas as pd\n",
    "import matplotlib.pyplot as plt\n",
    "import networkx as nx \n",
    "\n",
    "# Cargamos los datos del fichero book1.csv en un dataframe\n",
    "book1 = pd.read_csv('data/book1.csv')\n",
    "\n",
    "# Creamos un objeto grafo vacío\n",
    "G_book1 = nx.Graph()\n",
    "\n",
    "# Iteramos para todas las filas del dataset\n",
    "for _, edge in book1.iterrows():\n",
    "    G_book1.add_edge(edge['Source'], edge['Target'], weight=edge['weight'])\n",
    "    "
   ]
  },
  {
   "cell_type": "code",
   "execution_count": 9,
   "metadata": {},
   "outputs": [],
   "source": [
    "# Respuesta"
   ]
  },
  {
   "cell_type": "markdown",
   "metadata": {},
   "source": [
    "### Ejercicio Opcional\n",
    "\n",
    "Mediante la _degree centrality_ hemos podido descubrir cuál es el personaje más importante del primer libro de _Juego de Tronos_. Sin embargo, esta saga consta de cinco volúmenes, por lo tanto, tiene sentido que la importancia de los personajes cambie a lo largo de los cinco libros.\n",
    "\n",
    "En este ejercicio estudiaremos la evolución de los personajes mediante la red de relaciones de los cinco libros. Trabajaremos con los conjuntos de datos `book1.csv`,` book2.csv`, `book3.csv`,` book4.csv` y `book5.csv` **(que os proporcionamos junto con el enunciado de la PEC)**. <span style=\"font-family: Courier New; background-color: #f2ae72; color: #000000; padding: 3px; \">EI</span>\n",
    "\n",
    "- ¿Cuál es el personaje más importante de cada libro?\n",
    "- Muestra gráficamente cómo varía la importancia de Eddard Stark, Arya Stark, Tyrion Lannister, Jon Snow y Cersei Lannister en cada libro."
   ]
  },
  {
   "cell_type": "code",
   "execution_count": 10,
   "metadata": {},
   "outputs": [],
   "source": [
    "# Respuesta"
   ]
  },
  {
   "cell_type": "markdown",
   "metadata": {},
   "source": [
    "---\n",
    "\n",
    "## Soluciones a los ejercicios para practicar"
   ]
  },
  {
   "cell_type": "markdown",
   "metadata": {},
   "source": [
    "### Ejercicio 1\n",
    "\n",
    "Cargad el conjunto de datos `pulitzer-circulation-data.csv` en un dataframe de Pandas. La fuente original de este conjunto de datos es el repositorio de datos de [FiveThirtyEight] (https://github.com/fivethirtyeight/data).\n",
    "\n",
    "Cread un diagrama de dispersión que permita visualizar las muestras del conjunto de datos de pulitzer según las variables `Daily Circulation 2004` y `Daily Circulation 2013`. Incluid una recta con el ajuste lineal entre las dos variables. En cuanto a los detalles de visualización, limitad la visualización de ambos ejes en el intervalo (0, 1000000), utilice el estilo `whitegrid` de Seaborn, y dibuja los puntos y la línea en color verde.\n",
    "\n",
    "Pista: podéis utilizar la función `jointplot` que hemos visto en el Notebook de explicación. Considerad qué tipo de gráfica, [de entre las que ofrece jointplot] (http://seaborn.pydata.org/generated/seaborn.jointplot.html), se ajusta a los requerimientos del enunciado."
   ]
  },
  {
   "cell_type": "code",
   "execution_count": 11,
   "metadata": {},
   "outputs": [
    {
     "name": "stderr",
     "output_type": "stream",
     "text": [
      "/Users/alexandraabos/anaconda3/lib/python3.7/site-packages/scipy/stats/stats.py:1713: FutureWarning: Using a non-tuple sequence for multidimensional indexing is deprecated; use `arr[tuple(seq)]` instead of `arr[seq]`. In the future this will be interpreted as an array index, `arr[np.array(seq)]`, which will result either in an error or a different result.\n",
      "  return np.add.reduce(sorted[indexer] * weights, axis=axis) / sumval\n"
     ]
    },
    {
     "data": {
      "image/png": "[encoded data removed]",
      "text/plain": [
       "<Figure size 576x576 with 3 Axes>"
      ]
     },
     "metadata": {},
     "output_type": "display_data"
    }
   ],
   "source": [
    "# Importamos las librerías\n",
    "import pandas as pd\n",
    "import seaborn as sns\n",
    "\n",
    "# Mostramos las gráficas en el notebook\n",
    "%matplotlib inline\n",
    "\n",
    "# Indicamos que queremos utilizar el estilo \"whitegrid\" de Seaborn\n",
    "sns.set_style(\"whitegrid\")\n",
    "\n",
    "# Cargamos los datos del fichero pulitzer-circulation-data.csv en un dataframe\n",
    "data = pd.read_csv('data/pulitzer-circulation-data.csv')\n",
    "\n",
    "# Generamos la gráfica de tipo \"reg\"\n",
    "g = sns.jointplot(\"Daily Circulation 2004\", \"Daily Circulation 2013\", data=data, \n",
    "                  xlim=[0, 1000000], ylim=[0, 1000000],\n",
    "                  kind=\"reg\", \n",
    "                  color=\"g\", height=8)"
   ]
  },
  {
   "cell_type": "markdown",
   "metadata": {},
   "source": [
    "### Ejercicio 2\n",
    "\n",
    "_Juego de Tronos_ es una serie de televisión basada en la famosa saga _Una Canción de Fuego y Hielo_ de George RR Martin. Esta serie es conocida por sus complejos escenarios políticos y bélicos, así como las numerosas muertes de personajes.\n",
    "\n",
    "En este ejercicio trabajamos con el dataset `battles.csv` que nos da información sobre las batallas que han tenido lugar a lo largo de _Juego de Tronos_.\n",
    "\n",
    "Cread un diagrama de puntos (_scatter_) que permita comparar el tamaño ( `attacker_size` vs` defender_size`) de los dos principales ejércitos involucrados en cada batalla. Utilizad la columna `attacker_outcome` para mostrar con diferentes colores el resultado de la batalla por el atacante.\n",
    "\n",
    "Podéis utilizar la función [ `lmplot`] (https://seaborn.pydata.org/generated/seaborn.lmplot.html) de Seaborn para generar la gráfica. Considerad qué atributos nos permiten crear este tipo de visualización.\n",
    "\n",
    "Viendo la gráfica, podemos afirmar que el tamaño del ejército es determinante en el _outcome_ de la batalla?\n",
    "\n",
    "Nota: utilizad el estilo `whitegrid` de Seaborn.\n"
   ]
  },
  {
   "cell_type": "code",
   "execution_count": 12,
   "metadata": {},
   "outputs": [
    {
     "data": {
      "text/plain": [
       "<seaborn.axisgrid.FacetGrid at 0xa1dd20390>"
      ]
     },
     "execution_count": 12,
     "metadata": {},
     "output_type": "execute_result"
    },
    {
     "data": {
      "image/png": "[encoded data removed]",
      "text/plain": [
       "<Figure size 449.925x360 with 1 Axes>"
      ]
     },
     "metadata": {},
     "output_type": "display_data"
    }
   ],
   "source": [
    "# Importamos las librerías\n",
    "import pandas as pd\n",
    "import seaborn as sns\n",
    "\n",
    "# Mostramos las gráficas en el notebook\n",
    "%matplotlib inline\n",
    "\n",
    "# Indicamos que queremos utilizar el estilo \"whitegrid\" de Seaborn\n",
    "sns.set(style=\"whitegrid\")\n",
    "\n",
    "# Cargamos los datos del fichero got.csv en un dataframe\n",
    "got_data = pd.read_csv('data/battles.csv')\n",
    "\n",
    "# Eliminamos las muestras con valores NaN en las columnas attacker_size o defender_size\n",
    "got_data = got_data.dropna(subset=[\"attacker_size\", \"defender_size\"])\n",
    "\n",
    "# Mostramos la gráfica\n",
    "sns.lmplot(x=\"attacker_size\", y=\"defender_size\", hue=\"attacker_outcome\", scatter=True, fit_reg=False, data=got_data)"
   ]
  },
  {
   "cell_type": "markdown",
   "metadata": {},
   "source": [
    "**Respuesta** \n",
    "\n",
    "Veient la gràfica anterior, no podem afirmar que la mida de l'exèrcit és determinant en l'outcome de la batalla. Com podem observar, hi ha casos on l'atacant perd la batalla tot i la superioritat numèrica de les tropes i a l'inrevés, l'atacant guanya la batalla tot i la superioritat numèrica del bàndol contrari."
   ]
  },
  {
   "cell_type": "markdown",
   "metadata": {},
   "source": [
    "### Ejercicio 3\n",
    "\n",
    "En los reinos de Poniente, los Grandes Maestros consideran que todo el mundo debería tener acceso a una biblioteca. Desgraciadamente, después de una gran guerra la red de carreteras que comunican estos reinos ha quedado gravemente afectada. Los Grandes Maestros nos han contratado para resolver las siguientes cuestiones:\n",
    "\n",
    "1. ¿Qué reinos han quedado sin poder acceder a una biblioteca?\n",
    "2. ¿Cuál es el número mínimo de bibliotecas que se deberían construir para que todo el mundo vuelva a tener acceso a una biblioteca? (Si no podemos re-construir ninguna carretera)\n",
    "3. ¿Cuál es el coste mínimo de re-construcción de carreteras a fin de que todo el mundo vuelva a tener acceso a una biblioteca? (Si no podemos construir ninguna biblioteca)\n",
    "4. Viendo la respuesta de la pregunta 2 y 3, que sería lo más óptimo teniendo en cuenta que queremos minimizar los costes?\n",
    "\n",
    "Para poder responder a estas preguntas, los Grandes Maestros nos facilitan la siguiente información:\n",
    "\n",
    "- Disponemos de un grafo con el estado de la red de carreteras entre los reinos.\n",
    "- Disponemos de un listado con las ciudades que disponen de una biblioteca.\n",
    "- Una ciudad se considera que tiene acceso a una biblioteca si existe una biblioteca en la misma ciudad o si los habitantes pueden viajar por carretera hasta otra ciudad con biblioteca.\n",
    "- El coste de construir una biblioteca es de 150.000 €.\n",
    "- El coste de re-construir una carretera es de 80.000 €.\n",
    "\n",
    "Nota: para resolver el ejercicio, **tenéis que generar una visualización del grafo que os permita responder a las cuatro preguntas planteadas**. Después, **recuerda responder a las cuatro preguntas!**\n"
   ]
  },
  {
   "cell_type": "code",
   "execution_count": 13,
   "metadata": {},
   "outputs": [],
   "source": [
    "# Datos disponibles para el ejercicio\n",
    "\n",
    "import networkx as nx\n",
    "\n",
    "# Lista de carreteras transitables\n",
    "carreteras_ok = [(1,3), (3,4), (2, 7), (2, 8), (5, 6), (9, 10)]\n",
    "\n",
    "# Lista de carreteras cortadas\n",
    "carreteras_ko = [(1, 2), (2, 4), (2, 5), (8, 9)]\n",
    "\n",
    "# Graf G, que representa la red de carreteras entre las ciudades\n",
    "G = nx.Graph()\n",
    "\n",
    "G.add_edges_from(carreteras_ok)\n",
    "G.add_edges_from(carreteras_ko) \n",
    "\n",
    "# Lista de ciudades con biblioteca\n",
    "ciudades_con_biblioteca = [3, 6, 9]"
   ]
  },
  {
   "cell_type": "code",
   "execution_count": 14,
   "metadata": {},
   "outputs": [
    {
     "data": {
      "text/plain": [
       "<matplotlib.collections.LineCollection at 0x1a1f474668>"
      ]
     },
     "execution_count": 14,
     "metadata": {},
     "output_type": "execute_result"
    },
    {
     "data": {
      "image/png": "[encoded data removed]",
      "text/plain": [
       "<Figure size 432x288 with 1 Axes>"
      ]
     },
     "metadata": {
      "needs_background": "light"
     },
     "output_type": "display_data"
    }
   ],
   "source": [
    "%matplotlib inline\n",
    "\n",
    "# Calculamos la posición de los nodos usando el algoritmo spring\n",
    "graph_pos = nx.spring_layout(G)\n",
    "\n",
    "# Mostramos los nodos del grafo. Mostramos con un tamaño más grande y en azul las ciudades que tienen biblioteca\n",
    "nx.draw_networkx_nodes(G, graph_pos, ciudades_con_biblioteca, node_size=700, node_color='blue', alpha = 0.6)\n",
    "\n",
    "# Mostramos con un tamaño más pequeño y en naranja los otros nodos del grafo\n",
    "ciudades_sin_biblioteca = list(set(G.nodes()) - set(ciudades_con_biblioteca))\n",
    "nx.draw_networkx_nodes(G, graph_pos, ciudades_sin_biblioteca, node_size=300, node_color='orange', alpha = 0.6)\n",
    " \n",
    "# Mostramos las etiquetas del nodos, especificando el tamaño y la fuente\n",
    "nx.draw_networkx_labels(G, graph_pos, font_size=12, font_family='sans-serif')\n",
    "    \n",
    "# Mostramos las aristas del grafo\n",
    "# Primero, mostramos con color verde las aristas que corresponden a las carreteras que aún son transitables\n",
    "nx.draw_networkx_edges(G, graph_pos, edgelist=carreteras_ok, edge_color='green', alpha=0.5)\n",
    "\n",
    "# Mostramos con color rojo las aristas que corresponden a las carreteras cortadas\n",
    "nx.draw_networkx_edges(G, graph_pos, edgelist=carreteras_ko, edge_color='red', alpha=0.5)"
   ]
  },
  {
   "cell_type": "markdown",
   "metadata": {},
   "source": [
    "**Respuesta**\n",
    "\n",
    "Una vez construido el grafo, podemos contestar las preguntas que nos han hecho los Grandes Maestros.\n",
    "\n",
    "- Qué reinos han quedado sin poder acceder a una biblioteca?\n",
    "\n",
    "Los reinos que han quedado sin acceso a una biblioteca son: `[2, 7, 8]`.\n",
    "\n",
    "- Cuál es el número mínimo de bibliotecas que se deberían construir para que todo el mundo vuelva a tener acceso a una biblioteca? (Si no podemos re-construir ninguna carretera)\n",
    "\n",
    "Dado que los tres reinos que han quedado sin acceso a una biblioteca están conectados entre sí (aunque quedan carreteras que los unen), podemos construir una biblioteca en cualquiera de los tres para que los ciudadanos de estos reinos puedan volver a disfrutar de una biblioteca. Por tanto, el número mínimo de bibliotecas sería **1**.\n",
    "\n",
    "- Cuál es el coste mínimo de re-construcción de carreteras a fin de que todo el mundo vuelva a tener acceso a una biblioteca? (Si no podemos construir ninguna biblioteca)\n",
    "\n",
    "Siguiendo el mismo razonamiento anterior, si re-construimos la carretera que conectaba el reino 8 con el reino 9 (que tiene biblioteca), también estaremos habilitando el acceso a los reinos 2 y 7. Por tanto, el coste mínimo para re-construir carreteras sería **150.000 €**.\n",
    "\n",
    "- Viendo la respuesta de la pregunta 2 y 3, que sería lo más óptimo teniendo en cuenta que queremos minimizar los costes?\n",
    "\n",
    "En este caso, lo más óptimo sería re-construir una carretera (por ejemplo la que une los reinos 8 y 9). Esto costaría `80.000 €`, mientras que construir una biblioteca nos implica un coste de `150.000 €`."
   ]
  }
 ],
 "metadata": {
  "kernelspec": {
   "display_name": "Python 3",
   "language": "python",
   "name": "python3"
  },
  "language_info": {
   "codemirror_mode": {
    "name": "ipython",
    "version": 3
   },
   "file_extension": ".py",
   "mimetype": "text/x-python",
   "name": "python",
   "nbconvert_exporter": "python",
   "pygments_lexer": "ipython3",
   "version": "3.7.2"
  }
 },
 "nbformat": 4,
 "nbformat_minor": 2
}
