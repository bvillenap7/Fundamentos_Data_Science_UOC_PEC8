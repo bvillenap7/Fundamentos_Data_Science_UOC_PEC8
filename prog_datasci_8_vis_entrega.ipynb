{
 "cells": [
  {
   "cell_type": "markdown",
   "metadata": {},
   "source": [
    "<div style=\"width: 100%; clear: both;\">\n",
    "    <div style=\"float: left; width: 50%;\">\n",
    "       <img src=\"http://www.uoc.edu/portal/_resources/common/imatges/marca_UOC/UOC_Masterbrand.jpg\", align=\"left\">\n",
    "    </div>\n",
    "</div>\n",
    "\n",
    "<div style=\"float: right; width: 50%;\">\n",
    "    <p style=\"margin: 0; padding-top: 22px; text-align:right;\">22.501 · Fundamentos de Programación</p>\n",
    "    <p style=\"margin: 0; text-align:right;\">Grado en Ciencia de Datos Aplicada</p>\n",
    "    <p style=\"margin: 0; text-align:right; padding-button: 100px;\">Estudios de Informática, Multimedia y Telecomunicación</p>\n",
    "</div>\n",
    "\n",
    "</div>\n",
    "<div style=\"width: 100%; clear: both;\">\n",
    "<div style=\"width:100%;\">&nbsp;</div>"
   ]
  },
  {
   "cell_type": "markdown",
   "metadata": {
    "id": "qE3JvthCyg2W"
   },
   "source": [
    "Unidad 8. Visualización \n",
    "========\n",
    "\n",
    "\n",
    "Fundamentos de Programación\n",
    "============================\n",
    "\n",
    "\n",
    "En este Notebook se encontraréis el conjunto de actividades evaluables como PEC de la asignatura. Veréis que cada una de ellas tiene asociada una puntuación, que indica el peso que tiene la actividad sobre la nota final de la PEC. Adicionalmente, hay un ejercicio opcional, que no tiene puntuación dentro de la PEC, pero que se valora al final del semestre de cara a conceder las matrículas de honor y redondear las notas finales. Podréis sacar la máxima nota de la PEC sin necesidad de hacer este ejercicio. El objetivo de este ejercicio es que sirva como pequeño reto para los estudiantes que quieran profundizar en el contenido de la asignatura.\n",
    "\n",
    "Veréis que todas las actividades de la PEC tienen una etiqueta, que indica los recursos necesarios para llevarla a cabo. Hay tres posibles etiquetas:\n",
    "\n",
    "* <span style=\"font-family: Courier New; background-color: #82b74b; color: #000000; padding: 3px; \">NM</span> **Sólo materiales**: las herramientas necesarias para realizar la actividad se pueden encontrar en los materiales de la asignatura.\n",
    "\n",
    "* <span style = \"font-family: Courier New; background-color: #ffcc5c; color: #000000; padding: 3px; \">EG</span> **Consulta externa guiada**: la actividad puede requerir hacer uso de herramientas que no se encuentran en los materiales de la asignatura, pero el enunciado contiene indicaciones de dónde o cómo encontrar la información adicional necesaria para resolver la actividad.\n",
    "\n",
    "* <span style = \"font-family: Courier New; background-color: #f2ae72; color: #000000; padding: 3px;\">EI</span> **Consulta externa independiente**: la actividad puede requerir hacer uso de herramientas que no se encuentran en los materiales de la asignatura, y el enunciado puede no incluir la descripción de dónde o cómo encontrar esta información adicional. Será necesario que el estudiante busque esta información utilizando los recursos que se han explicado en la asignatura.\n",
    "\n",
    "Es importante notar que estas etiquetas no indican el nivel de dificultad del ejercicio, sino únicamente la necesidad de consulta de documentación externa para su resolución. Además, recordad que las **etiquetas son informativas**, pero podréis consultar referencias externas en cualquier momento (aunque no se indique explícitamente) o puede ser que podáis hacer una actividad sin consultar ningún tipo de documentación. Por ejemplo, para resolver una actividad que sólo requiera los materiales de la asignatura, puedéis consultar referencias externas si queréis, ya sea tanto para ayudaros en la resolución como para ampliar el conocimiento!\n",
    "\n",
    "En cuanto a la consulta de documentación externa en la resolución de los ejercicios, recordad **citar siempre la bibliografía utilizada** para resolver cada actividad.\n",
    "\n",
    "---"
   ]
  },
  {
   "cell_type": "markdown",
   "metadata": {
    "id": "I-R8U3o7yg2Y"
   },
   "source": [
    "### Ejercicio 1\n",
    "\n",
    "Tenemos un conjunto de datos llamado `worldcities.xlsx` que contiene información sobre la mayoría de las ciudades de todo el mundo. A partir de estos datos, nos han solicitado que dibujemos un mapa de las ciudades españolas utilizando las librerías `pandas`, `geopandas` y `matplotlib`. **(2,5 puntos)**\n",
    "\n",
    "El mapa resultado debe tener marcadas todas las ciudades del país con puntos de color azul, pero las que sean más importantes (`primary` y `admin`), tendrán los puntos de color rojo, de mayor tamaño que los demás y con los nombres al lado. Elija un tamaño de puntos que sea legible y no se superpongan mucho unos con otros.\n",
    "\n",
    "El estilo del mapa debe ser de color blanco (sin relieve) con las líneas delimitadoras de color negro.\n",
    " \n",
    "Para tener una guía del proceso, nos han proporcionado una serie de puntos a seguir:\n",
    "\n",
    "&nbsp;&nbsp;&nbsp;&nbsp;&nbsp;&nbsp; a) Carga del conjunto de datos y visualización de las 10 primeras filas. <span style=\"fuente-family: Courier New; background-color: #82b74b; color: #000000; padding: 3px; \">NM</span> **(0,25 puntos)**\n",
    "\n",
    "&nbsp;&nbsp;&nbsp;&nbsp;&nbsp;&nbsp; b) Filtrar los datos para obtener las ciudades españolas. <span style=\"fuente-family: Courier New; background-color: #82b74b; color: #000000; padding: 3px; \">NM</span> **(0,25 puntos)**\n",
    "\n",
    "&nbsp;&nbsp;&nbsp;&nbsp;&nbsp;&nbsp; c) Dibujar mapa de España de color blanco con los contornos negros. <span style=\"fuente-family: Courier New; background-color: #f2ae72; color: #000000; padding: 3px; \">EI</span> **(0,5 puntos)**\n",
    "\n",
    "&nbsp;&nbsp;&nbsp;&nbsp;&nbsp;&nbsp; d) Marcar todas las ciudades españolas con los puntos azules. <span style=\"fuente-family: Courier New; background-color: #f2ae72; color: #000000; padding: 3px; \">EI</span> **(0,5 puntos)**\n",
    "\n",
    "&nbsp;&nbsp;&nbsp;&nbsp;&nbsp;&nbsp; e) Añadir los puntos rojos algo mayores de las ciudades más importantes. <span style=\"fuente-family: Courier New; background-color: #f2ae72; color: #000000; padding: 3px; \">EI</span> **(0,5 puntos)**\n",
    "\n",
    "&nbsp;&nbsp;&nbsp;&nbsp;&nbsp;&nbsp; f) Poner los nombres en las ciudades más relevantes junto a cada punto rojo. <span style=\"fuente-family: Courier New; background-color: #f2ae72; color: #000000; padding: 3px; \">EI</span> **(0,5 puntos)**\n",
    "\n",
    "Nota: Quizás tengas que instalar geopandas, como por ejemplo con `!pip install geopandas==0.13.0` desde el notebook"
   ]
  },
  {
   "cell_type": "code",
   "execution_count": 16,
   "metadata": {},
   "outputs": [],
   "source": [
    "# Respuesta"
   ]
  },
  {
   "cell_type": "markdown",
   "metadata": {},
   "source": [
    "Ejercicio 2\n",
    "========\n",
    "\n",
    "Utilizando el DataFrame de worldcities, responde lo siguiente **(2,5 puntos)**:\n",
    "\n",
    "a) Calcula aquellas capitales que tienen más de 1 millón de habitantes, da el resultado estratificado por tipos de capital. Utiliza las funciones de pandas para encontrar esta información. \n",
    "\n",
    "<span style=\"fuente-family: Courier New; background-color: #82b74b; color: #000000; padding: 3px; \">NM</span> **(0,5 puntos)**"
   ]
  },
  {
   "cell_type": "code",
   "execution_count": 18,
   "metadata": {},
   "outputs": [],
   "source": [
    "# Respuesta"
   ]
  },
  {
   "cell_type": "markdown",
   "metadata": {},
   "source": [
    "b) Haz una gráfica usando seaborno que represente la distribución de población en función del tipo de capital usando violinplot y mostrando los datos de la distribución mediante por swarmplot. <span style=\"fuente-family: Courier New; background-color: #ffcc5c; color: #000000; padding: 3px; \">EG</span> **(1 punto)**"
   ]
  },
  {
   "cell_type": "code",
   "execution_count": 21,
   "metadata": {},
   "outputs": [],
   "source": [
    "# Respuesta"
   ]
  },
  {
   "cell_type": "markdown",
   "metadata": {},
   "source": [
    "c) Utiliza seaborn FacetGrid para crear un gráfico que muestre la distribución de población en función del tipo de capitalidad por cada país. El gráfico debe cumplir las siguientes condiciones:\n",
    "\n",
    "- Aplica un filtro para mostrar únicamente los países con más de 1000 entradas en el conjunto de datos original.\n",
    "- Utiliza un histograma para representar la distribución de población y define 10 bins.\n",
    "- Añade etiquetas adecuadas a los ejes y títulos para las filas y columnas del FacetGrid.\n",
    "- El eje X debe contener los nombres de los países y el eje Y debe representar el recuento de ciudades de cada país.\n",
    "- Cada figura debe ser representada en escala logarítmica en ambos ejes.\n",
    "\n",
    "<span style=\"fuente-family: Courier New; background-color: #ffcc5c; color: #000000; padding: 3px; \">EG</span> **(1 punto)**"
   ]
  },
  {
   "cell_type": "code",
   "execution_count": 23,
   "metadata": {},
   "outputs": [],
   "source": [
    "# Respuesta"
   ]
  },
  {
   "cell_type": "markdown",
   "metadata": {},
   "source": [
    "Ejercicio 3\n",
    "======\n",
    "\n",
    "El siguiente conjunto de datos (`attack_sample.csv`) contiene información sobre ataques que se han realizado en una red entre diferentes nodos durante un experimento. A continuación, responde a los siguientes puntos: **(2,5 puntos)**\n",
    "\n",
    "\n",
    "a) Carga los datos a un dataframe y muestra las primeras 5 filas. <span style=\"fuente-family: Courier New; background-color: #82b74b; color: #000000; padding: 3px; \">NM</span> **(0,25 puntos)**"
   ]
  },
  {
   "cell_type": "code",
   "execution_count": 27,
   "metadata": {},
   "outputs": [],
   "source": [
    "# Respuesta"
   ]
  },
  {
   "cell_type": "markdown",
   "metadata": {},
   "source": [
    "b) Queremos visualizar los ataques que se han realizado entre los nodos en forma de grafo. Construye un grafo dirigido con la librería `networkx` donde los nodos (etiquetados) representen a los diferentes emisores/receptores de los ataques y las aristas indiquen entre qué nodos se ha producido. <span style=\"fuente-family: Courier New; background-color: #f2ae72; color: #000000; padding: 3px; \">EI</span> **(1 punto)**"
   ]
  },
  {
   "cell_type": "code",
   "execution_count": 29,
   "metadata": {},
   "outputs": [],
   "source": [
    "# Respuesta"
   ]
  },
  {
   "cell_type": "markdown",
   "metadata": {},
   "source": [
    "c) Responde a las siguientes preguntas haciendo uso de las funciones y propiedades de la librería `networkx`: <span style=\"fuente-family: Courier New; background-color: #f2ae72; color: #000000; padding: 3px;\" >EI</span> **(0,75 puntos)**\n",
    "* Visualizando el grafo, ¿qué nodos no han recibido ningún ataque? También demuéstralo a través de código.\n",
    "* ¿Cuántos ataques se han producido?\n",
    "* ¿Qué nodo ha recibido más ataques? ¿Cuál ha producido más?"
   ]
  },
  {
   "cell_type": "code",
   "execution_count": 31,
   "metadata": {},
   "outputs": [],
   "source": [
    "# Respuesta"
   ]
  },
  {
   "cell_type": "markdown",
   "metadata": {},
   "source": [
    "d) Vuelve a dibujar el grafo pero esta vez muestra el tamaño de los nodos en función de su grado. Es decir, un nodo con grado superior se pintará mayor que un nodo con grado inferior. <span style=\"fuente-family: Courier New; background-color: #f2ae72; color: #000000; padding: 3px; \">EI</span> **(0,5 puntos)**"
   ]
  },
  {
   "cell_type": "code",
   "execution_count": null,
   "metadata": {},
   "outputs": [],
   "source": [
    "# Respuesta"
   ]
  },
  {
   "cell_type": "markdown",
   "metadata": {},
   "source": [
    "Ejercicio 4\n",
    "=======\n",
    "\n",
    "Considera el archivo `evolucion.csv`. A partir del archivo:\n",
    "\n",
    "a) importa el archivo a pandas y descríbelo. <span style=\"fuente-family: Courier New; background-color: #82b74b; color: #000000; padding: 3px; \">NM</span> **(0,5 puntos)**\n",
    "\n",
    "\n",
    "b) Usa ipywidgets para realizar un pequeño panel de datos en el que:\n",
    "- Puedas selecciona una o más provincias disponibles basadas en los datos leídos con un widget\n",
    "- Subas seleccionar una o más de las curvas disponibles con un segundo widget\n",
    "- Crea un panel interactivo en el que al seleccionar las provincias y curvas a representar, se cree una figura mostrando la evolución de las curvas seleccionadas a lo largo del tiempo.\n",
    "- Dentro de esta función, se filtra los datos en función de las provincias seleccionadas y se trazan las curvas correspondientes para cada provincia. Por último, se configura el estilo de la gráfica, se muestran las etiquetas y el título, y se muestra la gráfica.\n",
    "\n",
    "Recuerda etiquetar los plotes, ejes e incluir leyendas. <span style=\"fuente-family: Courier New; background-color: #82b74b; color: #000000; padding: 3px; \">NM</span> **(2 puntos)**\n",
    "\n",
    "\n",
    "\n",
    "Nota: Puedes utilizar el módulo `datetime` para procesar la columna de fechas.\n",
    "\n",
    "<span style=\"fuente-family: Courier New; background-color: #ffcc5c; color: #000000; padding: 3px; \">EG</span> **(2 puntos)**"
   ]
  },
  {
   "cell_type": "code",
   "execution_count": null,
   "metadata": {},
   "outputs": [],
   "source": [
    "# Respuesta"
   ]
  },
  {
   "cell_type": "markdown",
   "metadata": {},
   "source": [
    "### Ejercicio Opcional\n",
    "\n",
    "El [triángulo de Sierpinski](https://es.wikipedia.org/wiki/Triangle_de_Sierpinski) es un objeto fractal, que fue introducido por primera vez en 1915 por el matemático polaco Waclaw Sierpiński. El Tetraedro de Sierpiński es una generalización del fractal que se genera a partir de la subdivisión recursiva de un tetraedro. Empieza con un tetraedro inicial y después se divide repetidamente en tetraedros más pequeños, siguiendo un patrón específico. A cada paso de la subdivisión, se toman los puntos medio de las aristas para construir los nuevos tetraedros.\n",
    "\n",
    "El resultado es un fractal en forma de tetraedros que se repiten a distintos niveles de detalle. Cada tetraedro más pequeño contiene una versión en miniatura del fractal completo. El Tetraedro de Sierpiński exhibe una estructura fractal autosimilar, con la misma forma que se repite en diferentes dimensiones y en una escala decreciente.\n",
    "\n",
    "A medida que se incrementa el número de subdivisiones o niveles de detalle, el fractal resulta más complejo y muestra una intrincada estructura geométrica. Esta propiedad fractal, junto a su belleza visual y simetría, hace del Tetraedro de Sierpiński  una figura fascinante y cautivadora para los matemáticos y entusiastas de los fractales.\n",
    "\n",
    "\n",
    "Crea una representación del Tetraedro de Sierpiński usando matplotlib\n",
    "\n",
    "Nota: Puedes generar una representación 3d con el argumento `projection='3d' de [subplot](https://matplotlib.org/stable/api/_as_gen/matplotlib.pyplot.subplot.html)\n",
    "\n",
    "<span style=\"fuente-family: Courier New; background-color: #f2ae72; color: #000000; padding: 3px; \">EI</span>"
   ]
  },
  {
   "cell_type": "code",
   "execution_count": null,
   "metadata": {},
   "outputs": [],
   "source": [
    "# Respuesta"
   ]
  }
 ],
 "metadata": {
  "colab": {
   "provenance": []
  },
  "kernelspec": {
   "display_name": "Python 3",
   "language": "python",
   "name": "python3"
  },
  "language_info": {
   "codemirror_mode": {
    "name": "ipython",
    "version": 3
   },
   "file_extension": ".py",
   "mimetype": "text/x-python",
   "name": "python",
   "nbconvert_exporter": "python",
   "pygments_lexer": "ipython3",
   "version": "3.7.6"
  }
 },
 "nbformat": 4,
 "nbformat_minor": 1
}
